{
 "cells": [
  {
   "cell_type": "code",
   "execution_count": 12,
   "metadata": {},
   "outputs": [],
   "source": [
    "def extract_lines_between_hlines(file_path):\n",
    "    with open(file_path, 'r') as file:\n",
    "        lines = file.readlines()\n",
    "\n",
    "    extracted_data = []\n",
    "    current_block = []\n",
    "\n",
    "    for line in lines:\n",
    "        stripped_line = line.strip()\n",
    "        if stripped_line == r'\\hline':\n",
    "            if current_block:\n",
    "                extracted_data.append(current_block)\n",
    "                current_block = []\n",
    "        else:\n",
    "            if stripped_line:\n",
    "                current_block.append(stripped_line)\n",
    "\n",
    "    # Append the last block if it exists\n",
    "    if current_block:\n",
    "        extracted_data.append(current_block)\n",
    "\n",
    "    return extracted_data\n",
    "\n",
    "import re\n",
    "def extract_number(s):\n",
    "    match = re.search(r'\\d+', s)\n",
    "    return int(match.group()) if match else float('inf')\n",
    "\n",
    "def join_list_of_lists_with_hline(data):\n",
    "    # Initialize the joined string with an empty string\n",
    "    joined_string = \"\"\n",
    "    \n",
    "    for sublist in data:\n",
    "        # Join each sublist into a single string separated by newlines\n",
    "        sublist_string = '\\n'.join(sublist)\n",
    "        # Add the sublist string and \\hline separator to the joined string\n",
    "        if '\\end{table}' not in sublist:\n",
    "            joined_string += sublist_string + '\\n\\\\hline\\n'\n",
    "        else:\n",
    "            joined_string += sublist_string + '\\n'\n",
    "    return joined_string\n",
    "\n",
    "# Usage example:\n",
    "import os \n",
    "path_tables = r'C:\\Stuff\\Results\\tables_test'\n",
    "path_tables_sorted = r'C:\\Stuff\\Results\\tables_sorted'\n",
    "for table in os.listdir(path_tables):\n",
    "    path_table = os.path.join(path_tables, table)\n",
    "    data = extract_lines_between_hlines(path_table)\n",
    "    sorted_data = data\n",
    "    for i, block in enumerate(data):\n",
    "        if not (i == 0 or i == 1 or i == (len(data)-1)):\n",
    "            block = sorted(data[i], key=extract_number)\n",
    "            sorted_data[i] = block\n",
    "    \n",
    "    joined_string = join_list_of_lists_with_hline(sorted_data)\n",
    "    file_path = os.path.join(path_tables_sorted, table)\n",
    "    with open(file_path, 'w') as file:\n",
    "        file.write(joined_string)            \n"
   ]
  },
  {
   "cell_type": "code",
   "execution_count": 13,
   "metadata": {},
   "outputs": [
    {
     "name": "stdout",
     "output_type": "stream",
     "text": [
      "All files have been concatenated into: C:\\Stuff\\Results\\tables.txt\n"
     ]
    }
   ],
   "source": [
    "import os\n",
    "\n",
    "# Specify the directory containing the files\n",
    "folder_path = r'C:\\Stuff\\Results\\tables_sorted'\n",
    "# Specify the path for the output file\n",
    "output_file_path = r'C:\\Stuff\\Results\\tables.txt'\n",
    "\n",
    "# Open the output file in write mode\n",
    "with open(output_file_path, 'w') as outfile:\n",
    "    # Iterate over each file in the directory\n",
    "    for filename in os.listdir(folder_path):\n",
    "        # Construct the full file path\n",
    "        file_path = os.path.join(folder_path, filename)\n",
    "        # Check if it is a file\n",
    "        if os.path.isfile(file_path):\n",
    "            # Open the file in read mode\n",
    "            with open(file_path, 'r') as infile:\n",
    "                # Read the contents of the file\n",
    "                contents = infile.read()\n",
    "                # Write the contents to the output file\n",
    "                outfile.write(contents)\n",
    "                # Optionally, write a newline between files\n",
    "                outfile.write('\\n')\n",
    "\n",
    "print('All files have been concatenated into:', output_file_path)\n"
   ]
  }
 ],
 "metadata": {
  "kernelspec": {
   "display_name": "nerfstudio",
   "language": "python",
   "name": "python3"
  },
  "language_info": {
   "codemirror_mode": {
    "name": "ipython",
    "version": 3
   },
   "file_extension": ".py",
   "mimetype": "text/x-python",
   "name": "python",
   "nbconvert_exporter": "python",
   "pygments_lexer": "ipython3",
   "version": "3.8.18"
  }
 },
 "nbformat": 4,
 "nbformat_minor": 2
}
