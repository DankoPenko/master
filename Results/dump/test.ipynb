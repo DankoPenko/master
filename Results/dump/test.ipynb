{
 "cells": [
  {
   "cell_type": "code",
   "execution_count": 1,
   "metadata": {},
   "outputs": [
    {
     "name": "stdout",
     "output_type": "stream",
     "text": [
      "lego-pos-orient-std-0.01.json\n",
      "lego-pos-orient-std-0.015.json\n",
      "lego-pos-orient-std-0.02.json\n",
      "lego-pos-orient-std-0.025.json\n",
      "lego-pos-orient-std-0.03.json\n",
      "lego-pos-orient-std-0.035.json\n",
      "lego-pos-orient-std-0.04.json\n",
      "lego-pos-orient-std-0.045.json\n",
      "lego-pos-orient-std-0.05.json\n",
      "lego-pos-orient-std-0.0525.json\n",
      "nerfacto_opt_off_lego-pns-blue-noise-percent-10.json\n",
      "nerfacto_opt_off_lego-pns-blue-noise-percent-15.json\n",
      "nerfacto_opt_off_lego-pns-blue-noise-percent-20.json\n",
      "nerfacto_opt_off_lego-pns-blue-noise-percent-25.json\n",
      "nerfacto_opt_off_lego-pns-blue-noise-percent-30.json\n",
      "nerfacto_opt_off_lego-pns-blue-noise-percent-35.json\n",
      "nerfacto_opt_off_lego-pns-blue-noise-percent-40.json\n",
      "nerfacto_opt_off_lego-pns-blue-noise-percent-5.json\n",
      "nerfacto_opt_off_lego-pns-green-noise-percent-10.json\n",
      "nerfacto_opt_off_lego-pns-green-noise-percent-15.json\n",
      "nerfacto_opt_off_lego-pns-green-noise-percent-20.json\n",
      "nerfacto_opt_off_lego-pns-green-noise-percent-25.json\n",
      "nerfacto_opt_off_lego-pns-green-noise-percent-30.json\n",
      "nerfacto_opt_off_lego-pns-green-noise-percent-35.json\n",
      "nerfacto_opt_off_lego-pns-green-noise-percent-40.json\n",
      "nerfacto_opt_off_lego-pns-green-noise-percent-5.json\n",
      "nerfacto_opt_off_lego-pns-red-noise-percent-10.json\n",
      "nerfacto_opt_off_lego-pns-red-noise-percent-15.json\n",
      "nerfacto_opt_off_lego-pns-red-noise-percent-20.json\n",
      "nerfacto_opt_off_lego-pns-red-noise-percent-25.json\n",
      "nerfacto_opt_off_lego-pns-red-noise-percent-30.json\n",
      "nerfacto_opt_off_lego-pns-red-noise-percent-35.json\n",
      "nerfacto_opt_off_lego-pns-red-noise-percent-40.json\n",
      "nerfacto_opt_off_lego-pns-red-noise-percent-5.json\n"
     ]
    }
   ],
   "source": [
    "import os\n",
    "for file in os.listdir('C:\\Stuff\\Results\\jsons\\jsons_nerfacto_lego_opt_off'):\n",
    "    # for file2 in os.listdir('C:\\Stuff\\Results\\jsons\\jsons_nerfacto_lego_opt_on'):\n",
    "    if file not in os.listdir('C:\\Stuff\\Results\\jsons\\jsons_nerfacto_lego_opt_on'):\n",
    "        print(file)"
   ]
  },
  {
   "cell_type": "code",
   "execution_count": 3,
   "metadata": {},
   "outputs": [
    {
     "name": "stdout",
     "output_type": "stream",
     "text": [
      "lego-pns-blue-noise-percent-10.json\n",
      "lego-pns-blue-noise-percent-15.json\n",
      "lego-pns-blue-noise-percent-20.json\n",
      "lego-pns-blue-noise-percent-25.json\n",
      "lego-pns-blue-noise-percent-30.json\n",
      "lego-pns-blue-noise-percent-35.json\n",
      "lego-pns-blue-noise-percent-40.json\n",
      "lego-pns-blue-noise-percent-5.json\n",
      "lego-pns-green-noise-percent-10.json\n",
      "lego-pns-green-noise-percent-15.json\n",
      "lego-pns-green-noise-percent-20.json\n",
      "lego-pns-green-noise-percent-25.json\n",
      "lego-pns-green-noise-percent-30.json\n",
      "lego-pns-green-noise-percent-35.json\n",
      "lego-pns-green-noise-percent-40.json\n",
      "lego-pns-green-noise-percent-5.json\n",
      "lego-pns-red-noise-percent-10.json\n",
      "lego-pns-red-noise-percent-15.json\n",
      "lego-pns-red-noise-percent-20.json\n",
      "lego-pns-red-noise-percent-25.json\n",
      "lego-pns-red-noise-percent-30.json\n",
      "lego-pns-red-noise-percent-35.json\n",
      "lego-pns-red-noise-percent-40.json\n",
      "lego-pns-red-noise-percent-5.json\n"
     ]
    }
   ],
   "source": [
    "import os\n",
    "for file in os.listdir('C:\\Stuff\\Results\\jsons\\jsons_nerfacto_lego_opt_on'):\n",
    "    if file not in os.listdir('C:\\Stuff\\Results\\jsons\\jsons_nerfacto_lego_opt_off'):\n",
    "    # for file2 in os.listdir('C:\\Stuff\\Results\\jsons\\jsons_nerfacto_lego_opt_on'):\n",
    "        print(file)"
   ]
  },
  {
   "cell_type": "code",
   "execution_count": 4,
   "metadata": {},
   "outputs": [
    {
     "name": "stdout",
     "output_type": "stream",
     "text": [
      "86\n",
      "72\n"
     ]
    }
   ],
   "source": [
    "print(len(os.listdir('C:\\Stuff\\Results\\jsons\\jsons_nerfacto_lego_opt_on')))\n",
    "print(len(os.listdir('C:\\Stuff\\Results\\jsons\\jsons_nerfacto_lego_opt_off')))"
   ]
  },
  {
   "cell_type": "code",
   "execution_count": 6,
   "metadata": {},
   "outputs": [
    {
     "name": "stdout",
     "output_type": "stream",
     "text": [
      "87\n",
      "97\n"
     ]
    }
   ],
   "source": [
    "print(len(os.listdir(r'C:\\Stuff\\Results\\renders\\renders_nerfacto_lego_opt_on')))\n",
    "print(len(os.listdir(r'C:\\Stuff\\Results\\renders\\renders_nerfacto_lego_opt_off')))"
   ]
  },
  {
   "cell_type": "code",
   "execution_count": 4,
   "metadata": {},
   "outputs": [
    {
     "name": "stdout",
     "output_type": "stream",
     "text": [
      "{'2024-02-19_140702', '2024-03-17_012216', '2024-02-19_062913', '2024-03-17_005423', '2024-02-19_063907', '2024-02-19_135000', '2024-02-19_062418', '2024-02-19_143623', '2024-02-19_150255', '2024-03-17_022255', '2024-02-19_064405', '2024-02-19_151509', '2024-02-19_131844', '2024-02-19_142511', '2024-02-19_064907', '2024-03-17_023929', '2024-03-17_004853', '2024-03-17_005952', '2024-02-19_141322', '2024-03-17_022824', '2024-03-17_021728', '2024-02-19_135456', '2024-03-17_015528', '2024-02-19_143103', '2024-02-19_134517', '2024-03-17_024459', '2024-03-17_023401', '2024-03-17_025027', '2024-02-19_144604', '2024-03-17_025554', '2024-03-17_020057', '2024-02-19_145651', '2024-02-19_063408', '2024-03-17_015000', '2024-03-17_020633', '2024-02-19_150906', '2024-03-17_013847', '2024-02-19_145102', '2024-02-19_061424', '2024-02-19_152740', '2024-02-19_140056', '2024-03-17_010531', '2024-03-17_013319', '2024-02-19_152121', '2024-02-19_133444', '2024-03-17_014425', '2024-02-19_144117', '2024-03-17_011638', '2024-02-19_131312', '2024-03-17_021200', '2024-02-19_141944', '2024-02-19_132913', '2024-03-17_012752', '2024-02-19_132332', '2024-03-17_011059', '2024-02-19_061922', '2024-02-19_134017'}\n",
      "57\n"
     ]
    }
   ],
   "source": [
    "import json\n",
    "import re\n",
    "def get_timestamp(path):\n",
    "    f = open(path)\n",
    "    data =  json.load(f)\n",
    "    ckpt_path = data['checkpoint']\n",
    "    pattern = r'\\d{4}-\\d{2}-\\d{2}_\\d{6}'\n",
    "    match = re.search(pattern, ckpt_path)\n",
    "    timestamp = match.group()\n",
    "    return timestamp\n",
    "\n",
    "\n",
    "tss = []\n",
    "for file in os.listdir(r'C:\\Stuff\\Results\\jsons\\jsons_nerfacto_lego_opt_off'):\n",
    "    ts = get_timestamp(r'C:\\Stuff\\Results\\jsons\\jsons_nerfacto_lego_opt_off\\\\' + file)\n",
    "    tss.append(ts)\n",
    "    # if ts not in os.listdir(r'C:\\Stuff\\Results\\renders\\renders_nerfacto_lego_opt_off'):\n",
    "    #     print(ts)\n",
    "\n",
    "renders_ts = os.listdir(r'C:\\Stuff\\Results\\renders\\renders_nerfacto_lego_opt_off')\n",
    "\n",
    "jsons_not_in_tss = set(tss) - set(renders_ts)\n",
    "print(jsons_not_in_tss)\n",
    "print(len(jsons_not_in_tss))\n"
   ]
  },
  {
   "cell_type": "code",
   "execution_count": null,
   "metadata": {},
   "outputs": [],
   "source": [
    "opt on : 2024-03-03_140649"
   ]
  },
  {
   "cell_type": "code",
   "execution_count": 12,
   "metadata": {},
   "outputs": [
    {
     "name": "stdout",
     "output_type": "stream",
     "text": [
      "0\n",
      "set()\n"
     ]
    }
   ],
   "source": [
    "import json\n",
    "import re\n",
    "def get_timestamp(path):\n",
    "    f = open(path)\n",
    "    data =  json.load(f)\n",
    "    ckpt_path = data['checkpoint']\n",
    "    pattern = r'\\d{4}-\\d{2}-\\d{2}_\\d{6}'\n",
    "    match = re.search(pattern, ckpt_path)\n",
    "    timestamp = match.group()\n",
    "    return timestamp\n",
    "\n",
    "\n",
    "jsons_tss = []\n",
    "for file in os.listdir(r'C:\\Stuff\\Results\\jsons\\jsons_ngp_stump_opt_on'):\n",
    "    ts = get_timestamp(r'C:\\Stuff\\Results\\jsons\\jsons_ngp_stump_opt_on\\\\' + file)\n",
    "    jsons_tss.append(ts)\n",
    "    # if ts not in os.listdir(r'C:\\Stuff\\Results\\renders\\renders_ngp_stump_opt_on'):\n",
    "    #     print(ts)\n",
    "\n",
    "renders_ts = os.listdir(r'C:\\Stuff\\Results\\renders\\renders_stump_ngp_opt_on')\n",
    "\n",
    "missing_renders = set(jsons_tss) - set(renders_ts)\n",
    "print(len(missing_renders))\n",
    "print(missing_renders)"
   ]
  },
  {
   "cell_type": "code",
   "execution_count": 12,
   "metadata": {},
   "outputs": [
    {
     "data": {
      "text/plain": [
       "set()"
      ]
     },
     "execution_count": 12,
     "metadata": {},
     "output_type": "execute_result"
    }
   ],
   "source": [
    "ns-train instant-ngp --data C:\\Stuff\\Dataset-creation\\data_lego\\lego --viewer.quit-on-train-completion True --project-name lego-benchmark-opt-on --max-num-iterations 15000 --pipeline.model.near-plane 2. --pipeline.model.far-plane 6. --pipeline.datamanager.camera-optimizer.mode SO3xR3 --output-dir outputs-benchmark blender-data\n",
    "ns-train instant-ngp --data C:\\Stuff\\Dataset-creation\\data_lego\\lego --viewer.quit-on-train-completion True --project-name lego-benchmark-opt-off --max-num-iterations 15000 --pipeline.model.near-plane 2. --pipeline.model.far-plane 6. --pipeline.datamanager.camera-optimizer.mode off --output-dir outputs-benchmark blender-data\n",
    "ns-train nerfacto --data C:\\Stuff\\Dataset-creation\\data_lego\\lego --viewer.quit-on-train-completion True --project-name lego-benchmark-opt-on --max-num-iterations 15000 --pipeline.model.near-plane 2. --pipeline.model.far-plane 6. --pipeline.datamanager.camera-optimizer.mode SO3xR3 --output-dir outputs-benchmark blender-data\n",
    "ns-train nerfacto --data C:\\Stuff\\Dataset-creation\\data_lego\\lego --viewer.quit-on-train-completion True --project-name lego-benchmark-opt-off --max-num-iterations 15000 --pipeline.model.near-plane 2. --pipeline.model.far-plane 6. --pipeline.datamanager.camera-optimizer.mode off --output-dir outputs-benchmark blender-data\n",
    "\n",
    "ns-train instant-ngp --data C:\\Stuff\\Dataset-creation\\data\\stump --viewer.quit-on-train-completion True --project-name stump-benchmark-opt-on --max-num-iterations 15000 --pipeline.datamanager.camera-optimizer.mode SO3xR3 --output-dir outputs-benchmark blender-data\n",
    "ns-train instant-ngp --data C:\\Stuff\\Dataset-creation\\data\\stump --viewer.quit-on-train-completion True --project-name stump-benchmark-opt-off --max-num-iterations 15000 --pipeline.datamanager.camera-optimizer.mode off --output-dir outputs-benchmark blender-data\n",
    "ns-train nerfacto --data C:\\Stuff\\Dataset-creation\\data\\stump --viewer.quit-on-train-completion True --project-name stump-benchmark-opt-on --max-num-iterations 15000 --pipeline.datamanager.camera-optimizer.mode SO3xR3 --output-dir outputs-benchmark blender-data\n",
    "ns-train nerfacto --data C:\\Stuff\\Dataset-creation\\data\\stump --viewer.quit-on-train-completion True --project-name stump-benchmark-opt-off --max-num-iterations 15000 --pipeline.datamanager.camera-optimizer.mode off --output-dir outputs-benchmark blender-data"
   ]
  }
 ],
 "metadata": {
  "kernelspec": {
   "display_name": "Python 3",
   "language": "python",
   "name": "python3"
  },
  "language_info": {
   "codemirror_mode": {
    "name": "ipython",
    "version": 3
   },
   "file_extension": ".py",
   "mimetype": "text/x-python",
   "name": "python",
   "nbconvert_exporter": "python",
   "pygments_lexer": "ipython3",
   "version": "3.11.6"
  }
 },
 "nbformat": 4,
 "nbformat_minor": 2
}
