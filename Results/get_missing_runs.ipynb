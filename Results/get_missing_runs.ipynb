{
 "cells": [
  {
   "cell_type": "code",
   "execution_count": 3,
   "metadata": {},
   "outputs": [
    {
     "name": "stdout",
     "output_type": "stream",
     "text": [
      "jsons_nerfacto_lego_opt_off ['nerfacto_stump_opt_off_benchmark.json']\n",
      "jsons_nerfacto_lego_opt_on ['nerfacto_stump_opt_off_benchmark.json']\n",
      "jsons_nerfacto_stump_opt_off []\n",
      "jsons_nerfacto_stump_opt_on ['nerfacto_stump_opt_off_benchmark.json']\n",
      "jsons_ngp_lego_opt_off ['nerfacto_stump_opt_off_benchmark.json']\n",
      "jsons_ngp_lego_opt_on ['nerfacto_stump_opt_off_benchmark.json']\n",
      "jsons_ngp_stump_opt_off ['nerfacto_stump_opt_off_benchmark.json']\n",
      "jsons_ngp_stump_opt_on ['nerfacto_stump_opt_off_benchmark.json']\n"
     ]
    }
   ],
   "source": [
    "import os \n",
    "path_with_all_runs = r'C:\\Stuff\\Results\\jsons\\jsons_nerfacto_stump_opt_off'\n",
    "jsons_names = os.listdir(path_with_all_runs)\n",
    "set_all_jsons = set(jsons_names)\n",
    "set_all_jsons = {entry.replace('stump-', '') for entry in set_all_jsons}\n",
    "\n",
    "path_with_jsons = r'C:\\Stuff\\Results\\jsons'\n",
    "\n",
    "asd = []\n",
    "for folder in os.listdir(path_with_jsons):\n",
    "    path_folder = os.path.join(path_with_jsons, folder)\n",
    "    folder_jsons = os.listdir(path_folder)\n",
    "    folder_jsons = {entry.replace('ngp_lego_opt_on_degr_runs_', '') for entry in folder_jsons}\n",
    "    folder_jsons = {entry.replace('ngp_lego_opt_off_degr_runs_', '') for entry in folder_jsons}\n",
    "    folder_jsons = {entry.replace('outputs-ngp-lego-opt-on-satur-range_', '') for entry in folder_jsons}\n",
    "    folder_jsons = {entry.replace('outputs-ngp-lego-opt-off-satur-range_', '') for entry in folder_jsons}\n",
    "    folder_jsons = {entry.replace('outputs-nerfacto-lego-opt-on-satur-range_lego-', '') for entry in folder_jsons}\n",
    "    folder_jsons = {entry.replace('_nerfacto_opt_off_three_last', '') for entry in folder_jsons}\n",
    "    folder_jsons = {entry.replace('outputs-nerfacto-lego-opt-off-satur-range_lego-', '') for entry in folder_jsons}\n",
    "    folder_jsons = {entry.replace('stump-orient-std', 'orientation-std') for entry in folder_jsons}\n",
    "    folder_jsons = {entry.replace('stump-', '') for entry in folder_jsons}\n",
    "    folder_jsons = {entry.replace('pos-std', 'position-std') for entry in folder_jsons}\n",
    "\n",
    "    folder_jsons = {entry.replace('lego-', '') for entry in folder_jsons}\n",
    "    folder_jsons = {entry.replace('nerfacto_opt_off_', '') for entry in folder_jsons}\n",
    "    folder_jsons = {entry.replace('nerfacto_opt_on_', '') for entry in folder_jsons}\n",
    "    folder_jsons = {entry.replace('_nerfacto_opt_on', '') for entry in folder_jsons}\n",
    "    folder_jsons = {entry.replace('ngp_opt_off_', '') for entry in folder_jsons}\n",
    "    folder_jsons = {entry.replace('ngp_opt_on_', '') for entry in folder_jsons}\n",
    "\n",
    "\n",
    "    set_folder = set(folder_jsons)\n",
    "    missing_runs = set_all_jsons - set_folder\n",
    "    asd.append(missing_runs)\n",
    "    print(folder, sorted(missing_runs))"
   ]
  },
  {
   "cell_type": "code",
   "execution_count": 30,
   "metadata": {},
   "outputs": [
    {
     "data": {
      "text/plain": [
       "{'pos-orient-std-0.01.json',\n",
       " 'pos-orient-std-0.015.json',\n",
       " 'pos-orient-std-0.02.json',\n",
       " 'pos-orient-std-0.025.json',\n",
       " 'pos-orient-std-0.03.json',\n",
       " 'pos-orient-std-0.035.json',\n",
       " 'pos-orient-std-0.04.json',\n",
       " 'pos-orient-std-0.045.json',\n",
       " 'pos-orient-std-0.05.json',\n",
       " 'pos-orient-std-0.0525.json',\n",
       " 'pos-orient-std-0.055.json',\n",
       " 'pos-orient-std-0.0575.json',\n",
       " 'pos-orient-std-0.06.json',\n",
       " 'range-10.json',\n",
       " 'range-100.json',\n",
       " 'range-20.json',\n",
       " 'range-30.json',\n",
       " 'range-40.json',\n",
       " 'range-50.json',\n",
       " 'range-60.json',\n",
       " 'range-70.json',\n",
       " 'range-80.json',\n",
       " 'range-90.json'}"
      ]
     },
     "execution_count": 30,
     "metadata": {},
     "output_type": "execute_result"
    }
   ],
   "source": [
    "asd[1]"
   ]
  },
  {
   "cell_type": "code",
   "execution_count": 29,
   "metadata": {},
   "outputs": [
    {
     "data": {
      "text/plain": [
       "['pns-green-noise-percent-20.json',\n",
       " 'pns-green-noise-percent-25.json',\n",
       " 'pns-green-noise-percent-30.json',\n",
       " 'pns-green-noise-percent-35.json',\n",
       " 'pns-green-noise-percent-40.json',\n",
       " 'pns-green-noise-percent-5.json',\n",
       " 'pns-red-noise-percent-10.json',\n",
       " 'pns-red-noise-percent-15.json',\n",
       " 'pns-red-noise-percent-20.json',\n",
       " 'pns-red-noise-percent-25.json',\n",
       " 'pns-red-noise-percent-30.json',\n",
       " 'pns-red-noise-percent-35.json',\n",
       " 'pns-red-noise-percent-40.json',\n",
       " 'pns-red-noise-percent-5.json',\n",
       " 'pos-orient-std-0.055.json',\n",
       " 'pos-orient-std-0.0575.json',\n",
       " 'pos-orient-std-0.06.json',\n",
       " 'range-10.json',\n",
       " 'range-100.json',\n",
       " 'range-20.json',\n",
       " 'range-30.json',\n",
       " 'range-40.json',\n",
       " 'range-50.json',\n",
       " 'range-60.json',\n",
       " 'range-70.json',\n",
       " 'range-80.json',\n",
       " 'range-90.json']"
      ]
     },
     "execution_count": 29,
     "metadata": {},
     "output_type": "execute_result"
    }
   ],
   "source": [
    "sorted(list(asd[0]))[10:]"
   ]
  }
 ],
 "metadata": {
  "kernelspec": {
   "display_name": "Python 3",
   "language": "python",
   "name": "python3"
  },
  "language_info": {
   "codemirror_mode": {
    "name": "ipython",
    "version": 3
   },
   "file_extension": ".py",
   "mimetype": "text/x-python",
   "name": "python",
   "nbconvert_exporter": "python",
   "pygments_lexer": "ipython3",
   "version": "3.11.6"
  }
 },
 "nbformat": 4,
 "nbformat_minor": 2
}
