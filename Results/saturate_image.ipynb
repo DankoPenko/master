{
 "cells": [
  {
   "cell_type": "code",
   "execution_count": 5,
   "metadata": {},
   "outputs": [
    {
     "data": {
      "text/plain": [
       "True"
      ]
     },
     "execution_count": 5,
     "metadata": {},
     "output_type": "execute_result"
    }
   ],
   "source": [
    "import os \n",
    "import cv2\n",
    "import numpy as np\n",
    "\n",
    "def random_saturate(image_path, scale):\n",
    "    image = cv2.imread(image_path)\n",
    "    hsv_image = cv2.cvtColor(image, cv2.COLOR_BGR2HSV).astype(\"float32\")\n",
    "    saturation_factor = np.random.normal(loc = 1.0, scale = scale)\n",
    "    hsv_image[:, :, 1] = np.clip(hsv_image[:, :, 1] * 0.2, 0, 255)\n",
    "    saturated_image = cv2.cvtColor(hsv_image.astype(\"uint8\"), cv2.COLOR_HSV2BGR)\n",
    "    return saturated_image\n",
    "\n",
    "# path_folder = 'C:\\Stuff\\Dataset-creation\\data\\stump-saturation'\n",
    "\n",
    "path_image = r'C:\\Stuff\\Dataset-creation\\data\\stump\\images\\train_frame_00001.jpg'\n",
    "noisy_image = random_saturate(path_image, scale=1.5)\n",
    "cv2.imwrite(r'C:\\Stuff\\Results\\saturated0.jpg', noisy_image)"
   ]
  },
  {
   "cell_type": "code",
   "execution_count": 2,
   "metadata": {},
   "outputs": [],
   "source": [
    "import numpy as np \n",
    "from PIL import Image\n",
    "import re\n",
    "import os \n",
    "import random\n",
    "def adjust_gamma(image_path, gamma=1.5):\n",
    "    image = Image.open(image_path)\n",
    "    img_array = np.array(image)\n",
    "    adjusted_img_array = 255 * (img_array / 255) ** gamma\n",
    "    adjusted_img_array = np.clip(adjusted_img_array, 0, 255).astype(np.uint8)\n",
    "    adjusted_image = Image.fromarray(adjusted_img_array)\n",
    "    return adjusted_image\n",
    "\n",
    "\n",
    "path_image = r'C:\\Stuff\\Dataset-creation\\data\\stump\\images\\train_frame_00001.jpg'\n",
    "noisy_image = adjust_gamma(path_image, gamma = 5)\n",
    "noisy_image.save(r'C:\\Stuff\\Results\\gamma5.jpg')"
   ]
  }
 ],
 "metadata": {
  "kernelspec": {
   "display_name": "nerfstudio",
   "language": "python",
   "name": "python3"
  },
  "language_info": {
   "codemirror_mode": {
    "name": "ipython",
    "version": 3
   },
   "file_extension": ".py",
   "mimetype": "text/x-python",
   "name": "python",
   "nbconvert_exporter": "python",
   "pygments_lexer": "ipython3",
   "version": "3.8.18"
  }
 },
 "nbformat": 4,
 "nbformat_minor": 2
}
