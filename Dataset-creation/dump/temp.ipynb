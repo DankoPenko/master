{
 "cells": [
  {
   "cell_type": "code",
   "execution_count": 2,
   "metadata": {},
   "outputs": [
    {
     "name": "stdout",
     "output_type": "stream",
     "text": [
      "Renamed: stump-offset-5-every-2.json -> opt-on-offset-5-every-2.json\n",
      "Renamed: stump-offset-5-every-3.json -> opt-on-offset-5-every-3.json\n",
      "Renamed: stump-offset-5-every-4.json -> opt-on-offset-5-every-4.json\n",
      "Renamed: stump-offset-5-every-5.json -> opt-on-offset-5-every-5.json\n",
      "Renamed: stump-offset-5-every-6.json -> opt-on-offset-5-every-6.json\n",
      "Renamed: stump-offset-5-every-7.json -> opt-on-offset-5-every-7.json\n",
      "Renamed: stump-offset-5-every-8.json -> opt-on-offset-5-every-8.json\n",
      "Renamed: stump-offset-every-2.json -> opt-on-offset-every-2.json\n",
      "Renamed: stump-offset-every-3.json -> opt-on-offset-every-3.json\n",
      "Renamed: stump-offset-every-4.json -> opt-on-offset-every-4.json\n",
      "Renamed: stump-offset-every-5.json -> opt-on-offset-every-5.json\n",
      "Renamed: stump-offset-every-6.json -> opt-on-offset-every-6.json\n",
      "Renamed: stump-offset-every-7.json -> opt-on-offset-every-7.json\n",
      "Renamed: stump-offset-every-8.json -> opt-on-offset-every-8.json\n",
      "Renamed: stump-original-offset-random-6.json -> opt-on-original-offset-random-6.json\n"
     ]
    }
   ],
   "source": [
    "import os\n",
    "\n",
    "folder_path = 'jsons_offset_experiments'\n",
    "\n",
    "for file in os.listdir(folder_path):\n",
    "    if file.endswith('.json') and 'stump' in file:\n",
    "        # Create the new file name by replacing 'stump' with 'opt-off'\n",
    "        new_file_name = file.replace('stump', 'opt-on')\n",
    "\n",
    "        # Construct the full file paths\n",
    "        old_file_path = os.path.join(folder_path, file)\n",
    "        new_file_path = os.path.join(folder_path, new_file_name)\n",
    "\n",
    "        # Rename the file\n",
    "        os.rename(old_file_path, new_file_path)\n",
    "\n",
    "        print(f'Renamed: {file} -> {new_file_name}')\n"
   ]
  }
 ],
 "metadata": {
  "kernelspec": {
   "display_name": "Python 3",
   "language": "python",
   "name": "python3"
  },
  "language_info": {
   "codemirror_mode": {
    "name": "ipython",
    "version": 3
   },
   "file_extension": ".py",
   "mimetype": "text/x-python",
   "name": "python",
   "nbconvert_exporter": "python",
   "pygments_lexer": "ipython3",
   "version": "3.11.6"
  }
 },
 "nbformat": 4,
 "nbformat_minor": 2
}
