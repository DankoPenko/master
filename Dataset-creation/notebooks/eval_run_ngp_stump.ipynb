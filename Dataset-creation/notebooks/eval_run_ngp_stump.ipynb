{
 "cells": [
  {
   "cell_type": "code",
   "execution_count": 3,
   "metadata": {},
   "outputs": [],
   "source": [
    "import re\n",
    "import subprocess\n",
    "import os\n",
    "import time  # Import the time module\n",
    "\n",
    "def extract_project_name_from_yaml(file_path):\n",
    "    with open(file_path, 'r') as file:\n",
    "        yaml_content = file.read()\n",
    "        project_name_start = yaml_content.find('project_name:') + len('project_name:')\n",
    "        project_name_end = yaml_content.find('\\n', project_name_start)\n",
    "        project_name_value = yaml_content[project_name_start:project_name_end].strip()\n",
    "\n",
    "    return project_name_value"
   ]
  },
  {
   "cell_type": "code",
   "execution_count": 1,
   "metadata": {},
   "outputs": [],
   "source": [
    "# PATH_OUTPUTS = 'C:\\Stuff\\Dataset-creation\\\\notebooks\\outputs'\n",
    "# MODEL_TYPE = 'instant-ngp'\n",
    "# os.listdir(PATH_OUTPUTS)[1:35]"
   ]
  },
  {
   "cell_type": "code",
   "execution_count": 2,
   "metadata": {},
   "outputs": [],
   "source": [
    "# PATH_OUTPUTS = 'C:\\Stuff\\Dataset-creation\\\\notebooks\\outputs'\n",
    "# MODEL_TYPE = 'instant-ngp'\n",
    "# degradation_type = os.listdir(PATH_OUTPUTS)[0]\n",
    "# runs = os.path.join(PATH_OUTPUTS, degradation_type, MODEL_TYPE)\n",
    "# names = []\n",
    "# for run in os.listdir(runs):\n",
    "#     run_config_path = os.path.join(runs, run, 'config.yml') \n",
    "#     project_name = extract_project_name_from_yaml(run_config_path)\n",
    "#     names.append(project_name)\n",
    "# names[27:]"
   ]
  },
  {
   "cell_type": "code",
   "execution_count": 5,
   "metadata": {},
   "outputs": [
    {
     "ename": "FileNotFoundError",
     "evalue": "[WinError 3] Системе не удается найти указанный путь: 'C:\\\\Stuff\\\\Dataset-creation\\\\notebooks\\\\outputs'",
     "output_type": "error",
     "traceback": [
      "\u001b[1;31m---------------------------------------------------------------------------\u001b[0m",
      "\u001b[1;31mFileNotFoundError\u001b[0m                         Traceback (most recent call last)",
      "Cell \u001b[1;32mIn[5], line 4\u001b[0m\n\u001b[0;32m      2\u001b[0m PATH_OUTPUTS \u001b[38;5;241m=\u001b[39m \u001b[38;5;124m'\u001b[39m\u001b[38;5;124mC:\u001b[39m\u001b[38;5;124m\\\u001b[39m\u001b[38;5;124mStuff\u001b[39m\u001b[38;5;124m\\\u001b[39m\u001b[38;5;124mDataset-creation\u001b[39m\u001b[38;5;130;01m\\\\\u001b[39;00m\u001b[38;5;124mnotebooks\u001b[39m\u001b[38;5;124m\\\u001b[39m\u001b[38;5;124moutputs\u001b[39m\u001b[38;5;124m'\u001b[39m\n\u001b[0;32m      3\u001b[0m i \u001b[38;5;241m=\u001b[39m \u001b[38;5;241m0\u001b[39m\n\u001b[1;32m----> 4\u001b[0m \u001b[38;5;28;01mfor\u001b[39;00m degradation_type \u001b[38;5;129;01min\u001b[39;00m \u001b[43mos\u001b[49m\u001b[38;5;241;43m.\u001b[39;49m\u001b[43mlistdir\u001b[49m\u001b[43m(\u001b[49m\u001b[43mPATH_OUTPUTS\u001b[49m\u001b[43m)\u001b[49m[:]:\n\u001b[0;32m      5\u001b[0m     runs \u001b[38;5;241m=\u001b[39m os\u001b[38;5;241m.\u001b[39mpath\u001b[38;5;241m.\u001b[39mjoin(PATH_OUTPUTS, degradation_type, MODEL_TYPE)\n\u001b[0;32m      6\u001b[0m     \u001b[38;5;28;01mfor\u001b[39;00m run \u001b[38;5;129;01min\u001b[39;00m os\u001b[38;5;241m.\u001b[39mlistdir(runs)[\u001b[38;5;241m28\u001b[39m:]:\n",
      "\u001b[1;31mFileNotFoundError\u001b[0m: [WinError 3] Системе не удается найти указанный путь: 'C:\\\\Stuff\\\\Dataset-creation\\\\notebooks\\\\outputs'"
     ]
    }
   ],
   "source": [
    "MODEL_TYPE = 'instant-ngp'\n",
    "PATH_OUTPUTS = 'C:\\Stuff\\Dataset-creation\\\\notebooks\\outputs'\n",
    "i = 0\n",
    "for degradation_type in os.listdir(PATH_OUTPUTS)[:]:\n",
    "    runs = os.path.join(PATH_OUTPUTS, degradation_type, MODEL_TYPE)\n",
    "    for run in os.listdir(runs)[28:]:\n",
    "        run_config_path = os.path.join(runs, run, 'config.yml') \n",
    "        project_name = extract_project_name_from_yaml(run_config_path)\n",
    "        print(project_name)\n",
    "        path_render = os.path.join('C:\\\\Stuff\\\\Dataset-creation\\\\renders_stump_ngp_opt_on', run)\n",
    "        \n",
    "        base_command =   f'ns-eval --load-config={run_config_path} ' \\\n",
    "                        f'--output-path={project_name}.json '             \n",
    "        render_command = f'--render-output-path={path_render} '\n",
    "        command = base_command + render_command\n",
    "        # print(command)\n",
    "\n",
    "        # start_time = time.time() \n",
    "        # process = subprocess.Popen(command, shell=True, stdout=subprocess.DEVNULL, stderr=subprocess.DEVNULL)\n",
    "        # process.wait() \n",
    "        # end_time = time.time()  \n",
    "\n",
    "        # return_code = process.returncode\n",
    "        # running_time = end_time - start_time  \n",
    "        # running_time_minutes = running_time / 60  \n",
    "            \n",
    "\n",
    "        # with open('C:\\Stuff\\Dataset-creation\\\\renders_output_ngp_stump_opt_on.txt', 'a') as file:\n",
    "        #     text_to_write = f'The command at {project_name} exited with code: {return_code}; runtime: {running_time_minutes:.2f} minutes.\\n'\n",
    "        #     file.write(text_to_write)"
   ]
  },
  {
   "cell_type": "code",
   "execution_count": 13,
   "metadata": {},
   "outputs": [
    {
     "name": "stdout",
     "output_type": "stream",
     "text": [
      "stump-every-2\n",
      "stump-every-3\n",
      "stump-every-4\n",
      "stump-every-5\n",
      "stump-every-6\n",
      "stump-every-7\n",
      "stump-every-8\n",
      "stump-gamma-10\n",
      "stump-gamma-15\n",
      "stump-gamma-20\n",
      "stump-gamma-25\n",
      "stump-gamma-30\n",
      "stump-gamma-35\n",
      "stump-gamma-40\n",
      "stump-gamma-5\n",
      "stump-noise-std-112\n",
      "stump-noise-std-128\n",
      "stump-noise-std-16\n",
      "stump-noise-std-32\n",
      "stump-noise-std-48\n",
      "stump-noise-std-64\n",
      "stump-noise-std-80\n",
      "stump-noise-std-96\n",
      "stump-pns-blue-noise-percent-10\n",
      "stump-pns-blue-noise-percent-15\n",
      "stump-pns-blue-noise-percent-20\n",
      "stump-pns-blue-noise-percent-25\n",
      "stump-pns-blue-noise-percent-30\n",
      "stump-pns-blue-noise-percent-35\n",
      "stump-pns-blue-noise-percent-40\n",
      "stump-pns-blue-noise-percent-5\n",
      "stump-pns-green-noise-percent-10\n",
      "stump-pns-green-noise-percent-15\n",
      "stump-pns-green-noise-percent-20\n"
     ]
    }
   ],
   "source": [
    "MODEL_TYPE = 'instant-ngp'\n",
    "PATH_OUTPUTS = 'C:\\Stuff\\Dataset-creation\\\\notebooks\\outputs'\n",
    "i = 0\n",
    "for degradation_type in os.listdir(PATH_OUTPUTS)[1:35]:\n",
    "    runs = os.path.join(PATH_OUTPUTS, degradation_type, MODEL_TYPE)\n",
    "    for run in os.listdir(runs)[:]:\n",
    "        run_config_path = os.path.join(runs, run, 'config.yml') \n",
    "        project_name = extract_project_name_from_yaml(run_config_path)\n",
    "        print(project_name)\n",
    "        path_render = os.path.join('C:\\\\Stuff\\\\Dataset-creation\\\\renders_stump_ngp_opt_on', run)\n",
    "        \n",
    "        base_command =   f'ns-eval --load-config={run_config_path} ' \\\n",
    "                        f'--output-path={project_name}.json '             \n",
    "        render_command = f'--render-output-path={path_render} '\n",
    "        command = base_command + render_command\n",
    "        # print(command)\n",
    "\n",
    "        start_time = time.time() \n",
    "        process = subprocess.Popen(command, shell=True, stdout=subprocess.DEVNULL, stderr=subprocess.DEVNULL)\n",
    "        process.wait() \n",
    "        end_time = time.time()  \n",
    "\n",
    "        return_code = process.returncode\n",
    "        running_time = end_time - start_time  \n",
    "        running_time_minutes = running_time / 60  \n",
    "            \n",
    "\n",
    "        with open('C:\\Stuff\\Dataset-creation\\\\renders_output_ngp_stump_opt_on.txt', 'a') as file:\n",
    "            text_to_write = f'The command at {project_name} exited with code: {return_code}; runtime: {running_time_minutes:.2f} minutes.\\n'\n",
    "            file.write(text_to_write)"
   ]
  }
 ],
 "metadata": {
  "kernelspec": {
   "display_name": "nerfstudio",
   "language": "python",
   "name": "python3"
  },
  "language_info": {
   "codemirror_mode": {
    "name": "ipython",
    "version": 3
   },
   "file_extension": ".py",
   "mimetype": "text/x-python",
   "name": "python",
   "nbconvert_exporter": "python",
   "pygments_lexer": "ipython3",
   "version": "3.8.18"
  }
 },
 "nbformat": 4,
 "nbformat_minor": 2
}
