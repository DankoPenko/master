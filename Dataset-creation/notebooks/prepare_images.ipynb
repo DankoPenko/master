{
 "cells": [
  {
   "cell_type": "code",
   "execution_count": 11,
   "metadata": {},
   "outputs": [],
   "source": [
    "import re \n",
    "from pathlib import Path\n",
    "import json \n",
    "import os\n",
    "from PIL import Image, ImageDraw, ImageFont\n",
    "\n",
    "renders_path = 'C:\\Stuff\\Dataset-creation\\\\renders'\n",
    "results_path = 'C:\\Stuff\\Dataset-creation\\jsons'\n",
    "\n",
    "def add_text_to_image(input_image_path, output_image_path, text):\n",
    "    image = Image.open(input_image_path)\n",
    "    width, height = image.size\n",
    "    draw = ImageDraw.Draw(image)\n",
    "    font_size = 150\n",
    "    font = ImageFont.truetype(\"arial.ttf\", font_size)\n",
    "\n",
    "    text_width, text_height = 200, 200\n",
    "    x_position = width - text_width - 600\n",
    "    y_position = height - text_height + 40\n",
    "\n",
    "    text_color = (255, 0, 0)\n",
    "    draw.text((x_position, y_position), text, font=font, fill=text_color)\n",
    "\n",
    "    image.save(output_image_path)"
   ]
  },
  {
   "cell_type": "code",
   "execution_count": 1,
   "metadata": {},
   "outputs": [
    {
     "name": "stdout",
     "output_type": "stream",
     "text": [
      "Cropping completed.\n"
     ]
    }
   ],
   "source": [
    "renders_path = 'C:\\Stuff\\Dataset-creation\\\\renders'\n",
    "for folder_path in os.listdir(renders_path)[:]:\n",
    "    for filename in os.listdir(os.path.join(renders_path, folder_path)):\n",
    "        if filename.lower().endswith('img.jpg') and 'crop' not in filename:\n",
    "            file_path = os.path.join(renders_path, folder_path, filename)\n",
    "            original_image = Image.open(file_path)\n",
    "            original_width, original_height = original_image.size\n",
    "            left = (original_width/2) * 0.25  # 25% of the width\n",
    "            left += 3008\n",
    "            top = original_height * 0.25  # 25% of the height\n",
    "            right = (original_width/2) * 0.75  # 75% of the width\n",
    "            right += 3008\n",
    "            bottom = original_height * 0.75  # 75% of the height\n",
    "            cropped_image = original_image.crop((left, top, right, bottom))\n",
    "            new_filename = f\"crop_degrated_{filename}\"\n",
    "            new_file_path = os.path.join(renders_path, folder_path, new_filename)\n",
    "            cropped_image.save(new_file_path)\n",
    "            original_image.close()\n",
    "            cropped_image.close()\n",
    "\n",
    "print(\"Cropping completed.\")\n"
   ]
  },
  {
   "cell_type": "code",
   "execution_count": 10,
   "metadata": {},
   "outputs": [],
   "source": [
    "current_path = os.getcwd()\n",
    "\n",
    "for file in os.listdir(results_path):\n",
    "    f = open(os.path.join(results_path, file))\n",
    "    data =  json.load(f)\n",
    "    psnr = \"{:.1f}\".format(data['results']['psnr'])\n",
    "    ckpt_path = data['checkpoint']\n",
    "    pattern = r'\\d{4}-\\d{2}-\\d{2}_\\d{6}'\n",
    "    match = re.search(pattern, ckpt_path)\n",
    "    timestamp = match.group()\n",
    "    \n",
    "    if timestamp in os.listdir(renders_path):\n",
    "        folder_with_images = os.path.join(renders_path, timestamp)\n",
    "        for img in os.listdir(folder_with_images):\n",
    "            if 'degrated' in img and 'psnr' not in img:\n",
    "                input_image_path = os.path.join(folder_with_images, img)\n",
    "                new_img_name = f'psnr-{img}' \n",
    "                output_image_path = f\"{os.path.join(folder_with_images, new_img_name)}\"\n",
    "                text_to_add = f\"PSNR: {psnr}\"\n",
    "                add_text_to_image(input_image_path, output_image_path, text_to_add)\n",
    "            \n"
   ]
  },
  {
   "cell_type": "code",
   "execution_count": 13,
   "metadata": {},
   "outputs": [],
   "source": [
    "import re \n",
    "from pathlib import Path\n",
    "import json \n",
    "import os \n",
    "\n",
    "for file in os.listdir(results_path):\n",
    "    f = open(os.path.join(results_path, file))\n",
    "    data =  json.load(f)\n",
    "    ckpt_path = data['checkpoint']\n",
    "    pattern = r'\\d{4}-\\d{2}-\\d{2}_\\d{6}'\n",
    "    match = re.search(pattern, ckpt_path)\n",
    "    timestamp = match.group()\n",
    "    \n",
    "    if timestamp in os.listdir(renders_path):\n",
    "        folder_with_images = os.path.join(renders_path, timestamp)\n",
    "        for img in os.listdir(folder_with_images):\n",
    "            if 'psnr' in img:\n",
    "                input_image_path = os.path.join(folder_with_images, img)\n",
    "                new_img_name = f'{file.replace(\".json\", \"\")}-{img}' \n",
    "                output_image_path = f\"{os.path.join(folder_with_images, new_img_name)}\"\n",
    "                try: \n",
    "                    os.rename(input_image_path, output_image_path)\n",
    "                except:\n",
    "                    continue\n"
   ]
  },
  {
   "cell_type": "code",
   "execution_count": 14,
   "metadata": {},
   "outputs": [
    {
     "name": "stdout",
     "output_type": "stream",
     "text": [
      "Copied 'stump-pos-std-0.03-psnr-crop_degrated_000007-img.jpg' to 'C:\\Stuff\\Dataset-creation\\rendered_images_for_latex'.\n",
      "Copied 'stump-pos-std-0.03-psnr-crop_degrated_000012-img.jpg' to 'C:\\Stuff\\Dataset-creation\\rendered_images_for_latex'.\n",
      "Copied 'stump-pos-std-0.05-psnr-crop_degrated_000007-img.jpg' to 'C:\\Stuff\\Dataset-creation\\rendered_images_for_latex'.\n",
      "Copied 'stump-pos-std-0.05-psnr-crop_degrated_000012-img.jpg' to 'C:\\Stuff\\Dataset-creation\\rendered_images_for_latex'.\n",
      "Copied 'stump-pos-std-0.0525-psnr-crop_degrated_000007-img.jpg' to 'C:\\Stuff\\Dataset-creation\\rendered_images_for_latex'.\n",
      "Copied 'stump-pos-std-0.0525-psnr-crop_degrated_000012-img.jpg' to 'C:\\Stuff\\Dataset-creation\\rendered_images_for_latex'.\n",
      "Copied 'stump-pos-std-0.055-psnr-crop_degrated_000007-img.jpg' to 'C:\\Stuff\\Dataset-creation\\rendered_images_for_latex'.\n",
      "Copied 'stump-pos-std-0.055-psnr-crop_degrated_000012-img.jpg' to 'C:\\Stuff\\Dataset-creation\\rendered_images_for_latex'.\n",
      "Copied 'stump-pos-std-0.0575-psnr-crop_degrated_000007-img.jpg' to 'C:\\Stuff\\Dataset-creation\\rendered_images_for_latex'.\n",
      "Copied 'stump-pos-std-0.0575-psnr-crop_degrated_000012-img.jpg' to 'C:\\Stuff\\Dataset-creation\\rendered_images_for_latex'.\n",
      "Copied 'stump-pos-std-0.06-psnr-crop_degrated_000007-img.jpg' to 'C:\\Stuff\\Dataset-creation\\rendered_images_for_latex'.\n",
      "Copied 'stump-pos-std-0.06-psnr-crop_degrated_000012-img.jpg' to 'C:\\Stuff\\Dataset-creation\\rendered_images_for_latex'.\n",
      "Copied 'stump-orient-std-0.03-psnr-crop_degrated_000007-img.jpg' to 'C:\\Stuff\\Dataset-creation\\rendered_images_for_latex'.\n",
      "Copied 'stump-orient-std-0.03-psnr-crop_degrated_000012-img.jpg' to 'C:\\Stuff\\Dataset-creation\\rendered_images_for_latex'.\n",
      "Copied 'stump-orient-std-0.05-psnr-crop_degrated_000007-img.jpg' to 'C:\\Stuff\\Dataset-creation\\rendered_images_for_latex'.\n",
      "Copied 'stump-orient-std-0.05-psnr-crop_degrated_000012-img.jpg' to 'C:\\Stuff\\Dataset-creation\\rendered_images_for_latex'.\n",
      "Copied 'stump-orient-std-0.0525-psnr-crop_degrated_000007-img.jpg' to 'C:\\Stuff\\Dataset-creation\\rendered_images_for_latex'.\n",
      "Copied 'stump-orient-std-0.0525-psnr-crop_degrated_000012-img.jpg' to 'C:\\Stuff\\Dataset-creation\\rendered_images_for_latex'.\n",
      "Copied 'stump-orient-std-0.055-psnr-crop_degrated_000007-img.jpg' to 'C:\\Stuff\\Dataset-creation\\rendered_images_for_latex'.\n",
      "Copied 'stump-orient-std-0.055-psnr-crop_degrated_000012-img.jpg' to 'C:\\Stuff\\Dataset-creation\\rendered_images_for_latex'.\n",
      "Copied 'stump-orient-std-0.0575-psnr-crop_degrated_000007-img.jpg' to 'C:\\Stuff\\Dataset-creation\\rendered_images_for_latex'.\n",
      "Copied 'stump-orient-std-0.0575-psnr-crop_degrated_000012-img.jpg' to 'C:\\Stuff\\Dataset-creation\\rendered_images_for_latex'.\n",
      "Copied 'stump-orient-std-0.06-psnr-crop_degrated_000007-img.jpg' to 'C:\\Stuff\\Dataset-creation\\rendered_images_for_latex'.\n",
      "Copied 'stump-orient-std-0.06-psnr-crop_degrated_000012-img.jpg' to 'C:\\Stuff\\Dataset-creation\\rendered_images_for_latex'.\n",
      "Copied 'stump-pos-orient-std-0.03-psnr-crop_degrated_000007-img.jpg' to 'C:\\Stuff\\Dataset-creation\\rendered_images_for_latex'.\n",
      "Copied 'stump-pos-orient-std-0.03-psnr-crop_degrated_000012-img.jpg' to 'C:\\Stuff\\Dataset-creation\\rendered_images_for_latex'.\n",
      "Copied 'stump-pos-orient-std-0.05-psnr-crop_degrated_000007-img.jpg' to 'C:\\Stuff\\Dataset-creation\\rendered_images_for_latex'.\n",
      "Copied 'stump-pos-orient-std-0.05-psnr-crop_degrated_000012-img.jpg' to 'C:\\Stuff\\Dataset-creation\\rendered_images_for_latex'.\n",
      "Copied 'stump-pos-orient-std-0.0525-psnr-crop_degrated_000007-img.jpg' to 'C:\\Stuff\\Dataset-creation\\rendered_images_for_latex'.\n",
      "Copied 'stump-pos-orient-std-0.0525-psnr-crop_degrated_000012-img.jpg' to 'C:\\Stuff\\Dataset-creation\\rendered_images_for_latex'.\n",
      "Copied 'stump-pos-orient-std-0.055-psnr-crop_degrated_000007-img.jpg' to 'C:\\Stuff\\Dataset-creation\\rendered_images_for_latex'.\n",
      "Copied 'stump-pos-orient-std-0.055-psnr-crop_degrated_000012-img.jpg' to 'C:\\Stuff\\Dataset-creation\\rendered_images_for_latex'.\n",
      "Copied 'stump-pos-orient-std-0.0575-psnr-crop_degrated_000007-img.jpg' to 'C:\\Stuff\\Dataset-creation\\rendered_images_for_latex'.\n",
      "Copied 'stump-pos-orient-std-0.0575-psnr-crop_degrated_000012-img.jpg' to 'C:\\Stuff\\Dataset-creation\\rendered_images_for_latex'.\n",
      "Copied 'stump-pos-orient-std-0.06-psnr-crop_degrated_000007-img.jpg' to 'C:\\Stuff\\Dataset-creation\\rendered_images_for_latex'.\n",
      "Copied 'stump-pos-orient-std-0.06-psnr-crop_degrated_000012-img.jpg' to 'C:\\Stuff\\Dataset-creation\\rendered_images_for_latex'.\n"
     ]
    }
   ],
   "source": [
    "import os\n",
    "import shutil\n",
    "\n",
    "def copy_images_with_psnr(source_folder, destination_folder):\n",
    "    try:\n",
    "        if not os.path.exists(destination_folder):\n",
    "            os.makedirs(destination_folder)\n",
    "\n",
    "        for root, dirs, files in os.walk(source_folder):\n",
    "            for file in files:\n",
    "                if 'psnr' in file and ('007' in file or '012' in file) :\n",
    "                    source_path = os.path.join(root, file)\n",
    "                    destination_path = os.path.join(destination_folder, file)\n",
    "\n",
    "                    shutil.copy2(source_path, destination_path)\n",
    "                    print(f\"Copied '{file}' to '{destination_folder}'.\")\n",
    "\n",
    "    except Exception as e:\n",
    "        print(f\"An error occurred: {e}\")\n",
    "\n",
    "destination_folder = 'C:\\Stuff\\Dataset-creation\\\\rendered_images_for_latex'\n",
    "\n",
    "copy_images_with_psnr(renders_path, destination_folder)\n",
    "\n"
   ]
  },
  {
   "cell_type": "code",
   "execution_count": 2,
   "metadata": {},
   "outputs": [
    {
     "name": "stdout",
     "output_type": "stream",
     "text": [
      "Cropping completed.\n"
     ]
    }
   ],
   "source": [
    "import os\n",
    "from PIL import Image\n",
    "'''\n",
    "get rendered image of predicted scene in full size.\n",
    "'''\n",
    "\n",
    "renders_path = 'C:\\Stuff\\Dataset-creation\\\\renders'\n",
    "\n",
    "# Iterate through files in the folder\n",
    "for folder_path in os.listdir(renders_path)[:]:\n",
    "    for filename in os.listdir(os.path.join(renders_path, folder_path)):\n",
    "        if filename.lower().endswith('img.jpg') and 'crop' not in filename:\n",
    "            file_path = os.path.join(renders_path, folder_path, filename)\n",
    "            original_image = Image.open(file_path)\n",
    "            original_width, original_height = original_image.size\n",
    "            left = original_width/2\n",
    "            top = 0\n",
    "            right = original_width\n",
    "            bottom = original_height \n",
    "\n",
    "            # Crop the image\n",
    "            cropped_image = original_image.crop((left, top, right, bottom))\n",
    "            new_filename = f\"full_rendered_image_{filename}\"\n",
    "            new_file_path = os.path.join(renders_path, folder_path, new_filename)\n",
    "            cropped_image.save(new_file_path)\n",
    "            original_image.close()\n",
    "            cropped_image.close()\n",
    "\n",
    "print(\"Cropping completed.\")\n"
   ]
  }
 ],
 "metadata": {
  "kernelspec": {
   "display_name": "nerfstudio",
   "language": "python",
   "name": "python3"
  },
  "language_info": {
   "codemirror_mode": {
    "name": "ipython",
    "version": 3
   },
   "file_extension": ".py",
   "mimetype": "text/x-python",
   "name": "python",
   "nbconvert_exporter": "python",
   "pygments_lexer": "ipython3",
   "version": "3.8.18"
  }
 },
 "nbformat": 4,
 "nbformat_minor": 2
}
