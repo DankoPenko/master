{
 "cells": [
  {
   "cell_type": "code",
   "execution_count": 1,
   "metadata": {},
   "outputs": [],
   "source": [
    "import time\n",
    "import shutil\n",
    "import subprocess\n",
    "from pathlib import Path\n",
    "import numpy as np\n",
    "import os \n",
    "\n",
    "pathes_datasets=[\n",
    "# 'C:\\Stuff\\Dataset-creation\\data_lego\\lego-noise',\n",
    "'C:\\Stuff\\Dataset-creation\\data_lego\\lego-pns-noise',]\n",
    "# 'C:\\Stuff\\Dataset-creation\\data_lego\\lego-sparce',\n",
    "# 'C:\\Stuff\\Dataset-creation\\data_lego\\lego-gamma',\n",
    "# 'C:\\Stuff\\Dataset-creation\\data\\lego-range',\n",
    "# 'C:\\Stuff\\Dataset-creation\\data_lego\\lego-saturation',]\n",
    "\n",
    "path_lego = 'C:\\Stuff\\Dataset-creation\\data_lego\\lego'\n",
    "num_iterations = 15000\n",
    "\n",
    "\n",
    "for path_dataset in pathes_datasets:\n",
    "    for folder in os.listdir(path_dataset):\n",
    "        path_sub_dataset = os.path.join(path_dataset, folder)\n",
    "        command = f'ns-train nerfacto --data {path_sub_dataset} ' \\\n",
    "                f'--viewer.quit-on-train-completion True ' \\\n",
    "                f'--project-name {folder} ' \\\n",
    "                f'--max-num-iterations {num_iterations} ' \\\n",
    "                f'--pipeline.model.near-plane 2. ' \\\n",
    "                f'--pipeline.model.far-plane 6. ' \\\n",
    "                f'--pipeline.datamanager.camera-optimizer.mode off ' \\\n",
    "                f'--pipeline.model.use-average-appearance-embedding False ' \\\n",
    "                f'blender-data ' \\\n",
    "\n",
    "        start_time = time.time() \n",
    "        process = subprocess.Popen(command, shell=True, stdout=subprocess.DEVNULL, stderr=subprocess.DEVNULL)\n",
    "        process.wait() \n",
    "        end_time = time.time()  \n",
    "\n",
    "        return_code = process.returncode\n",
    "        running_time = end_time - start_time  \n",
    "        running_time_minutes = running_time / 60  \n",
    "\n",
    "        filepath = r'C:\\Stuff\\Dataset-creation\\\\nerfacto_lego_opt_off_degr_runs.txt'\n",
    "        if not os.path.exists(filepath):\n",
    "            open(filepath, 'a').close()\n",
    "\n",
    "        with open(filepath, 'a') as file:\n",
    "            text_to_write = f'The command at {folder} exited with code: {return_code}, {running_time_minutes}\\n'\n",
    "            file.write(text_to_write)"
   ]
  }
 ],
 "metadata": {
  "kernelspec": {
   "display_name": "nerfstudio",
   "language": "python",
   "name": "python3"
  },
  "language_info": {
   "codemirror_mode": {
    "name": "ipython",
    "version": 3
   },
   "file_extension": ".py",
   "mimetype": "text/x-python",
   "name": "python",
   "nbconvert_exporter": "python",
   "pygments_lexer": "ipython3",
   "version": "3.8.18"
  }
 },
 "nbformat": 4,
 "nbformat_minor": 2
}
