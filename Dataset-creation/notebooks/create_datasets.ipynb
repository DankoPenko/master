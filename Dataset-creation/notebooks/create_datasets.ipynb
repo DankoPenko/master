{
 "cells": [
  {
   "cell_type": "code",
   "execution_count": 1,
   "metadata": {},
   "outputs": [
    {
     "ename": "FileNotFoundError",
     "evalue": "[WinError 3] Системе не удается найти указанный путь: 'C:\\\\Stuff\\\\Dataset-creation\\\\data\\\\stump'",
     "output_type": "error",
     "traceback": [
      "\u001b[1;31m---------------------------------------------------------------------------\u001b[0m",
      "\u001b[1;31mFileNotFoundError\u001b[0m                         Traceback (most recent call last)",
      "Cell \u001b[1;32mIn[1], line 10\u001b[0m\n\u001b[0;32m      8\u001b[0m \u001b[38;5;28;01mfor\u001b[39;00m noise \u001b[38;5;129;01min\u001b[39;00m noises:\n\u001b[0;32m      9\u001b[0m     destination_folder \u001b[38;5;241m=\u001b[39m path_base_noise_stump \u001b[38;5;241m+\u001b[39m \u001b[38;5;28mstr\u001b[39m(noise)\n\u001b[1;32m---> 10\u001b[0m     \u001b[43mshutil\u001b[49m\u001b[38;5;241;43m.\u001b[39;49m\u001b[43mcopytree\u001b[49m\u001b[43m(\u001b[49m\u001b[43mpath_original_stump\u001b[49m\u001b[43m,\u001b[49m\u001b[43m \u001b[49m\u001b[43mdestination_folder\u001b[49m\u001b[43m)\u001b[49m\n\u001b[0;32m     11\u001b[0m     \u001b[38;5;28mprint\u001b[39m(\u001b[38;5;124mf\u001b[39m\u001b[38;5;124m\"\u001b[39m\u001b[38;5;124mFolder \u001b[39m\u001b[38;5;124m'\u001b[39m\u001b[38;5;132;01m{\u001b[39;00mdestination_folder\u001b[38;5;132;01m}\u001b[39;00m\u001b[38;5;124m'\u001b[39m\u001b[38;5;124m successfully cretaed.\u001b[39m\u001b[38;5;124m\"\u001b[39m)\n",
      "File \u001b[1;32mc:\\Users\\danko\\miniconda3\\envs\\nerfstudio\\lib\\shutil.py:555\u001b[0m, in \u001b[0;36mcopytree\u001b[1;34m(src, dst, symlinks, ignore, copy_function, ignore_dangling_symlinks, dirs_exist_ok)\u001b[0m\n\u001b[0;32m    518\u001b[0m \u001b[38;5;250m\u001b[39m\u001b[38;5;124;03m\"\"\"Recursively copy a directory tree and return the destination directory.\u001b[39;00m\n\u001b[0;32m    519\u001b[0m \n\u001b[0;32m    520\u001b[0m \u001b[38;5;124;03mdirs_exist_ok dictates whether to raise an exception in case dst or any\u001b[39;00m\n\u001b[1;32m   (...)\u001b[0m\n\u001b[0;32m    552\u001b[0m \n\u001b[0;32m    553\u001b[0m \u001b[38;5;124;03m\"\"\"\u001b[39;00m\n\u001b[0;32m    554\u001b[0m sys\u001b[38;5;241m.\u001b[39maudit(\u001b[38;5;124m\"\u001b[39m\u001b[38;5;124mshutil.copytree\u001b[39m\u001b[38;5;124m\"\u001b[39m, src, dst)\n\u001b[1;32m--> 555\u001b[0m \u001b[38;5;28;01mwith\u001b[39;00m \u001b[43mos\u001b[49m\u001b[38;5;241;43m.\u001b[39;49m\u001b[43mscandir\u001b[49m\u001b[43m(\u001b[49m\u001b[43msrc\u001b[49m\u001b[43m)\u001b[49m \u001b[38;5;28;01mas\u001b[39;00m itr:\n\u001b[0;32m    556\u001b[0m     entries \u001b[38;5;241m=\u001b[39m \u001b[38;5;28mlist\u001b[39m(itr)\n\u001b[0;32m    557\u001b[0m \u001b[38;5;28;01mreturn\u001b[39;00m _copytree(entries\u001b[38;5;241m=\u001b[39mentries, src\u001b[38;5;241m=\u001b[39msrc, dst\u001b[38;5;241m=\u001b[39mdst, symlinks\u001b[38;5;241m=\u001b[39msymlinks,\n\u001b[0;32m    558\u001b[0m                  ignore\u001b[38;5;241m=\u001b[39mignore, copy_function\u001b[38;5;241m=\u001b[39mcopy_function,\n\u001b[0;32m    559\u001b[0m                  ignore_dangling_symlinks\u001b[38;5;241m=\u001b[39mignore_dangling_symlinks,\n\u001b[0;32m    560\u001b[0m                  dirs_exist_ok\u001b[38;5;241m=\u001b[39mdirs_exist_ok)\n",
      "\u001b[1;31mFileNotFoundError\u001b[0m: [WinError 3] Системе не удается найти указанный путь: 'C:\\\\Stuff\\\\Dataset-creation\\\\data\\\\stump'"
     ]
    }
   ],
   "source": [
    "import os \n",
    "import shutil\n",
    "\n",
    "path_original_stump = 'C:\\Stuff\\Dataset-creation\\data\\stump'\n",
    "path_base_noise_stump = 'C:\\Stuff\\Dataset-creation\\data\\stump-noise\\stump-noise-std-'\n",
    "noises = list(range(16,144,16))\n",
    "\n",
    "for noise in noises:\n",
    "    destination_folder = path_base_noise_stump + str(noise)\n",
    "    shutil.copytree(path_original_stump, destination_folder)\n",
    "    print(f\"Folder '{destination_folder}' successfully cretaed.\")\n"
   ]
  },
  {
   "cell_type": "code",
   "execution_count": 10,
   "metadata": {},
   "outputs": [
    {
     "name": "stdout",
     "output_type": "stream",
     "text": [
      "Folder 'C:\\Stuff\\Dataset-creation\\data\\stump-pns-noise\\stump-pns-green-noise-percent-40' successfully cretaed.\n",
      "Folder 'C:\\Stuff\\Dataset-creation\\data\\stump-pns-noise\\stump-pns-red-noise-percent-40' successfully cretaed.\n",
      "Folder 'C:\\Stuff\\Dataset-creation\\data\\stump-pns-noise\\stump-pns-blue-noise-percent-40' successfully cretaed.\n"
     ]
    }
   ],
   "source": [
    "path_original_stump = 'C:\\Stuff\\Dataset-creation\\data\\stump'\n",
    "path_base_green_pns_noise_stump = 'C:\\Stuff\\Dataset-creation\\data\\stump-pns-noise\\stump-pns-green-noise-percent-'\n",
    "path_base_red_pns_noise_stump = 'C:\\Stuff\\Dataset-creation\\data\\stump-pns-noise\\stump-pns-red-noise-percent-'\n",
    "path_base_blue_pns_noise_stump = 'C:\\Stuff\\Dataset-creation\\data\\stump-pns-noise\\stump-pns-blue-noise-percent-'\n",
    "\n",
    "pepper_and_salt_percentage_noises = list(range(5,45,5))\n",
    "\n",
    "for noise in pepper_and_salt_percentage_noises:\n",
    "    destination_folder = path_base_green_pns_noise_stump + str(noise)\n",
    "    shutil.copytree(path_original_stump, destination_folder)\n",
    "    print(f\"Folder '{destination_folder}' successfully cretaed.\")\n",
    "\n",
    "for noise in pepper_and_salt_percentage_noises:\n",
    "    destination_folder = path_base_red_pns_noise_stump + str(noise)\n",
    "    shutil.copytree(path_original_stump, destination_folder)\n",
    "    print(f\"Folder '{destination_folder}' successfully cretaed.\")\n",
    "\n",
    "for noise in pepper_and_salt_percentage_noises:\n",
    "    destination_folder = path_base_blue_pns_noise_stump + str(noise)\n",
    "    shutil.copytree(path_original_stump, destination_folder)\n",
    "    print(f\"Folder '{destination_folder}' successfully cretaed.\")"
   ]
  },
  {
   "cell_type": "code",
   "execution_count": 15,
   "metadata": {},
   "outputs": [
    {
     "name": "stdout",
     "output_type": "stream",
     "text": [
      "Folder 'C:\\Stuff\\Dataset-creation\\data\\stump-saturation\\stump-saturation-std-0.1' successfully cretaed.\n",
      "Folder 'C:\\Stuff\\Dataset-creation\\data\\stump-saturation\\stump-saturation-std-0.2' successfully cretaed.\n",
      "Folder 'C:\\Stuff\\Dataset-creation\\data\\stump-saturation\\stump-saturation-std-0.3' successfully cretaed.\n",
      "Folder 'C:\\Stuff\\Dataset-creation\\data\\stump-saturation\\stump-saturation-std-0.4' successfully cretaed.\n",
      "Folder 'C:\\Stuff\\Dataset-creation\\data\\stump-saturation\\stump-saturation-std-0.5' successfully cretaed.\n",
      "Folder 'C:\\Stuff\\Dataset-creation\\data\\stump-saturation\\stump-saturation-std-0.6' successfully cretaed.\n",
      "Folder 'C:\\Stuff\\Dataset-creation\\data\\stump-saturation\\stump-saturation-std-0.7' successfully cretaed.\n",
      "Folder 'C:\\Stuff\\Dataset-creation\\data\\stump-saturation\\stump-saturation-std-0.8' successfully cretaed.\n",
      "Folder 'C:\\Stuff\\Dataset-creation\\data\\stump-saturation\\stump-saturation-std-0.9' successfully cretaed.\n",
      "Folder 'C:\\Stuff\\Dataset-creation\\data\\stump-saturation\\stump-saturation-std-1.0' successfully cretaed.\n"
     ]
    }
   ],
   "source": [
    "import numpy as np\n",
    "path_original_stump = 'C:\\Stuff\\Dataset-creation\\data\\stump'\n",
    "path_base_noise_stump = 'C:\\Stuff\\Dataset-creation\\data\\stump-saturation\\stump-saturation-std-'\n",
    "noises = np.arange(0.1, 1.1, 0.1)\n",
    "\n",
    "for noise in noises:\n",
    "    destination_folder = path_base_noise_stump + str(np.around(noise, 1)) #bug in numpy when you multiply 0.1 and 3 it results 0.300000004\n",
    "    shutil.copytree(path_original_stump, destination_folder)\n",
    "    print(f\"Folder '{destination_folder}' successfully cretaed.\")"
   ]
  },
  {
   "cell_type": "code",
   "execution_count": 16,
   "metadata": {},
   "outputs": [
    {
     "name": "stdout",
     "output_type": "stream",
     "text": [
      "Folder 'C:\\Stuff\\Dataset-creation\\data\\stump-range\\stump-range-10' successfully cretaed.\n",
      "Folder 'C:\\Stuff\\Dataset-creation\\data\\stump-range\\stump-range-20' successfully cretaed.\n",
      "Folder 'C:\\Stuff\\Dataset-creation\\data\\stump-range\\stump-range-30' successfully cretaed.\n",
      "Folder 'C:\\Stuff\\Dataset-creation\\data\\stump-range\\stump-range-40' successfully cretaed.\n",
      "Folder 'C:\\Stuff\\Dataset-creation\\data\\stump-range\\stump-range-50' successfully cretaed.\n",
      "Folder 'C:\\Stuff\\Dataset-creation\\data\\stump-range\\stump-range-60' successfully cretaed.\n",
      "Folder 'C:\\Stuff\\Dataset-creation\\data\\stump-range\\stump-range-70' successfully cretaed.\n",
      "Folder 'C:\\Stuff\\Dataset-creation\\data\\stump-range\\stump-range-80' successfully cretaed.\n",
      "Folder 'C:\\Stuff\\Dataset-creation\\data\\stump-range\\stump-range-90' successfully cretaed.\n",
      "Folder 'C:\\Stuff\\Dataset-creation\\data\\stump-range\\stump-range-100' successfully cretaed.\n"
     ]
    }
   ],
   "source": [
    "import numpy as np\n",
    "path_original_stump = 'C:\\Stuff\\Dataset-creation\\data\\stump'\n",
    "path_base_noise_stump = 'C:\\Stuff\\Dataset-creation\\data\\stump-range\\stump-range-'\n",
    "noises = np.arange(10, 110, 10)\n",
    "\n",
    "for noise in noises:\n",
    "    destination_folder = path_base_noise_stump + str(noise)\n",
    "    shutil.copytree(path_original_stump, destination_folder)\n",
    "    print(f\"Folder '{destination_folder}' successfully cretaed.\")\n"
   ]
  },
  {
   "cell_type": "code",
   "execution_count": 11,
   "metadata": {},
   "outputs": [
    {
     "name": "stdout",
     "output_type": "stream",
     "text": [
      "Folder 'C:\\Stuff\\Dataset-creation\\data\\stump-gamma\\stump-gamma-0.2' successfully cretaed.\n",
      "Folder 'C:\\Stuff\\Dataset-creation\\data\\stump-gamma\\stump-gamma-0.4' successfully cretaed.\n",
      "Folder 'C:\\Stuff\\Dataset-creation\\data\\stump-gamma\\stump-gamma-0.6' successfully cretaed.\n",
      "Folder 'C:\\Stuff\\Dataset-creation\\data\\stump-gamma\\stump-gamma-0.8' successfully cretaed.\n",
      "Folder 'C:\\Stuff\\Dataset-creation\\data\\stump-gamma\\stump-gamma-1.0' successfully cretaed.\n",
      "Folder 'C:\\Stuff\\Dataset-creation\\data\\stump-gamma\\stump-gamma-2.0' successfully cretaed.\n",
      "Folder 'C:\\Stuff\\Dataset-creation\\data\\stump-gamma\\stump-gamma-3.0' successfully cretaed.\n",
      "Folder 'C:\\Stuff\\Dataset-creation\\data\\stump-gamma\\stump-gamma-4.0' successfully cretaed.\n",
      "Folder 'C:\\Stuff\\Dataset-creation\\data\\stump-gamma\\stump-gamma-5.0' successfully cretaed.\n"
     ]
    }
   ],
   "source": [
    "# import numpy as np\n",
    "# import os \n",
    "# import shutil\n",
    "\n",
    "# path_original_stump = 'C:\\Stuff\\Dataset-creation\\data\\stump'\n",
    "# path_base_noise_stump = 'C:\\Stuff\\Dataset-creation\\data\\stump-gamma\\stump-gamma-'\n",
    "\n",
    "# noises_low = np.arange(0.2, 1.0, 0.2)\n",
    "# noises_high = np.arange(2, 6, 1)\n",
    "# noises = np.append(noises_low, noises_high)\n",
    "# for noise in noises:\n",
    "#     destination_folder = path_base_noise_stump + str(np.around(noise, 1))\n",
    "#     shutil.copytree(path_original_stump, destination_folder)\n",
    "#     print(f\"Folder '{destination_folder}' successfully cretaed.\")"
   ]
  },
  {
   "cell_type": "code",
   "execution_count": 2,
   "metadata": {},
   "outputs": [
    {
     "name": "stdout",
     "output_type": "stream",
     "text": [
      "Folder 'C:\\Stuff\\Dataset-creation\\data\\stump-gamma\\stump-gamma-5' successfully cretaed.\n",
      "Folder 'C:\\Stuff\\Dataset-creation\\data\\stump-gamma\\stump-gamma-10' successfully cretaed.\n",
      "Folder 'C:\\Stuff\\Dataset-creation\\data\\stump-gamma\\stump-gamma-15' successfully cretaed.\n",
      "Folder 'C:\\Stuff\\Dataset-creation\\data\\stump-gamma\\stump-gamma-20' successfully cretaed.\n",
      "Folder 'C:\\Stuff\\Dataset-creation\\data\\stump-gamma\\stump-gamma-25' successfully cretaed.\n",
      "Folder 'C:\\Stuff\\Dataset-creation\\data\\stump-gamma\\stump-gamma-30' successfully cretaed.\n",
      "Folder 'C:\\Stuff\\Dataset-creation\\data\\stump-gamma\\stump-gamma-35' successfully cretaed.\n",
      "Folder 'C:\\Stuff\\Dataset-creation\\data\\stump-gamma\\stump-gamma-40' successfully cretaed.\n"
     ]
    }
   ],
   "source": [
    "import numpy as np\n",
    "import os \n",
    "import shutil\n",
    "\n",
    "path_original_stump = 'C:\\Stuff\\Dataset-creation\\data\\stump'\n",
    "path_base_noise_stump = 'C:\\Stuff\\Dataset-creation\\data\\stump-gamma\\stump-gamma-'\n",
    "\n",
    "noises = np.arange(5, 45, 5)\n",
    "for noise in noises:\n",
    "    destination_folder = path_base_noise_stump + str(np.around(noise, 1))\n",
    "    shutil.copytree(path_original_stump, destination_folder)\n",
    "    print(f\"Folder '{destination_folder}' successfully cretaed.\")"
   ]
  },
  {
   "cell_type": "code",
   "execution_count": 3,
   "metadata": {},
   "outputs": [
    {
     "name": "stdout",
     "output_type": "stream",
     "text": [
      "Folder 'C:\\Stuff\\Dataset-creation\\data\\stump-sparce\\stump-every-2' successfully cretaed.\n",
      "Folder 'C:\\Stuff\\Dataset-creation\\data\\stump-sparce\\stump-every-3' successfully cretaed.\n",
      "Folder 'C:\\Stuff\\Dataset-creation\\data\\stump-sparce\\stump-every-4' successfully cretaed.\n",
      "Folder 'C:\\Stuff\\Dataset-creation\\data\\stump-sparce\\stump-every-5' successfully cretaed.\n",
      "Folder 'C:\\Stuff\\Dataset-creation\\data\\stump-sparce\\stump-every-6' successfully cretaed.\n",
      "Folder 'C:\\Stuff\\Dataset-creation\\data\\stump-sparce\\stump-every-7' successfully cretaed.\n",
      "Folder 'C:\\Stuff\\Dataset-creation\\data\\stump-sparce\\stump-every-8' successfully cretaed.\n"
     ]
    }
   ],
   "source": [
    "import numpy as np\n",
    "import os \n",
    "import shutil\n",
    "\n",
    "path_original_stump = 'C:\\Stuff\\Dataset-creation\\data\\stump'\n",
    "path_base_noise_stump = 'C:\\Stuff\\Dataset-creation\\data\\stump-sparce\\stump-every-'\n",
    "\n",
    "noises = np.arange(2, 9, 1)\n",
    "for noise in noises:\n",
    "    destination_folder = path_base_noise_stump + str(np.around(noise, 1))\n",
    "    shutil.copytree(path_original_stump, destination_folder)\n",
    "    print(f\"Folder '{destination_folder}' successfully cretaed.\")"
   ]
  },
  {
   "cell_type": "code",
   "execution_count": 1,
   "metadata": {},
   "outputs": [
    {
     "name": "stdout",
     "output_type": "stream",
     "text": [
      "Folder 'C:\\Stuff\\Dataset-creation\\data\\stump-sparce-offset\\stump-offset-every-2' successfully cretaed.\n",
      "Folder 'C:\\Stuff\\Dataset-creation\\data\\stump-sparce-offset\\stump-offset-every-3' successfully cretaed.\n",
      "Folder 'C:\\Stuff\\Dataset-creation\\data\\stump-sparce-offset\\stump-offset-every-4' successfully cretaed.\n",
      "Folder 'C:\\Stuff\\Dataset-creation\\data\\stump-sparce-offset\\stump-offset-every-5' successfully cretaed.\n",
      "Folder 'C:\\Stuff\\Dataset-creation\\data\\stump-sparce-offset\\stump-offset-every-6' successfully cretaed.\n",
      "Folder 'C:\\Stuff\\Dataset-creation\\data\\stump-sparce-offset\\stump-offset-every-7' successfully cretaed.\n",
      "Folder 'C:\\Stuff\\Dataset-creation\\data\\stump-sparce-offset\\stump-offset-every-8' successfully cretaed.\n"
     ]
    }
   ],
   "source": [
    "import numpy as np\n",
    "import os \n",
    "import shutil\n",
    "\n",
    "path_original_stump = 'C:\\Stuff\\Dataset-creation\\data\\stump-original-offset'\n",
    "path_base_noise_stump = 'C:\\Stuff\\Dataset-creation\\data\\stump-sparce-offset\\stump-offset-every-'\n",
    "\n",
    "noises = np.arange(2, 9, 1)\n",
    "for noise in noises:\n",
    "    destination_folder = path_base_noise_stump + str(np.around(noise, 1))\n",
    "    shutil.copytree(path_original_stump, destination_folder)\n",
    "    print(f\"Folder '{destination_folder}' successfully cretaed.\")"
   ]
  },
  {
   "cell_type": "code",
   "execution_count": 2,
   "metadata": {},
   "outputs": [
    {
     "name": "stdout",
     "output_type": "stream",
     "text": [
      "Folder 'C:\\Stuff\\Dataset-creation\\data\\stump-sparce-offset-5\\stump-offset-5-every-2' successfully cretaed.\n",
      "Folder 'C:\\Stuff\\Dataset-creation\\data\\stump-sparce-offset-5\\stump-offset-5-every-3' successfully cretaed.\n",
      "Folder 'C:\\Stuff\\Dataset-creation\\data\\stump-sparce-offset-5\\stump-offset-5-every-4' successfully cretaed.\n",
      "Folder 'C:\\Stuff\\Dataset-creation\\data\\stump-sparce-offset-5\\stump-offset-5-every-5' successfully cretaed.\n",
      "Folder 'C:\\Stuff\\Dataset-creation\\data\\stump-sparce-offset-5\\stump-offset-5-every-6' successfully cretaed.\n",
      "Folder 'C:\\Stuff\\Dataset-creation\\data\\stump-sparce-offset-5\\stump-offset-5-every-7' successfully cretaed.\n",
      "Folder 'C:\\Stuff\\Dataset-creation\\data\\stump-sparce-offset-5\\stump-offset-5-every-8' successfully cretaed.\n"
     ]
    }
   ],
   "source": [
    "import numpy as np\n",
    "import os \n",
    "import shutil\n",
    "\n",
    "path_original_stump = 'C:\\Stuff\\Dataset-creation\\data\\stump-original-offset'\n",
    "path_base_noise_stump = 'C:\\Stuff\\Dataset-creation\\data\\stump-sparce-offset-5\\stump-offset-5-every-'\n",
    "\n",
    "noises = np.arange(2, 9, 1)\n",
    "for noise in noises:\n",
    "    destination_folder = path_base_noise_stump + str(np.around(noise, 1))\n",
    "    shutil.copytree(path_original_stump, destination_folder)\n",
    "    print(f\"Folder '{destination_folder}' successfully cretaed.\")"
   ]
  }
 ],
 "metadata": {
  "kernelspec": {
   "display_name": "nerfstudio",
   "language": "python",
   "name": "python3"
  },
  "language_info": {
   "codemirror_mode": {
    "name": "ipython",
    "version": 3
   },
   "file_extension": ".py",
   "mimetype": "text/x-python",
   "name": "python",
   "nbconvert_exporter": "python",
   "pygments_lexer": "ipython3",
   "version": "3.8.18"
  }
 },
 "nbformat": 4,
 "nbformat_minor": 2
}
