{
 "cells": [
  {
   "cell_type": "code",
   "execution_count": 1,
   "metadata": {},
   "outputs": [
    {
     "name": "stdout",
     "output_type": "stream",
     "text": [
      "Folder 'C:\\Stuff\\Dataset-creation\\data_lego\\lego-noise\\lego-noise-std-16' successfully cretaed.\n",
      "Folder 'C:\\Stuff\\Dataset-creation\\data_lego\\lego-noise\\lego-noise-std-32' successfully cretaed.\n",
      "Folder 'C:\\Stuff\\Dataset-creation\\data_lego\\lego-noise\\lego-noise-std-48' successfully cretaed.\n",
      "Folder 'C:\\Stuff\\Dataset-creation\\data_lego\\lego-noise\\lego-noise-std-64' successfully cretaed.\n",
      "Folder 'C:\\Stuff\\Dataset-creation\\data_lego\\lego-noise\\lego-noise-std-80' successfully cretaed.\n",
      "Folder 'C:\\Stuff\\Dataset-creation\\data_lego\\lego-noise\\lego-noise-std-96' successfully cretaed.\n",
      "Folder 'C:\\Stuff\\Dataset-creation\\data_lego\\lego-noise\\lego-noise-std-112' successfully cretaed.\n",
      "Folder 'C:\\Stuff\\Dataset-creation\\data_lego\\lego-noise\\lego-noise-std-128' successfully cretaed.\n"
     ]
    }
   ],
   "source": [
    "import os \n",
    "import shutil\n",
    "\n",
    "path_original_lego = 'C:\\Stuff\\Dataset-creation\\data_lego\\lego'\n",
    "path_base_noise_lego = 'C:\\Stuff\\Dataset-creation\\data_lego\\lego-noise\\lego-noise-std-'\n",
    "noises = list(range(16,144,16))\n",
    "\n",
    "for noise in noises:\n",
    "    destination_folder = path_base_noise_lego + str(noise)\n",
    "    shutil.copytree(path_original_lego, destination_folder)\n",
    "    print(f\"Folder '{destination_folder}' successfully cretaed.\")\n"
   ]
  },
  {
   "cell_type": "code",
   "execution_count": 2,
   "metadata": {},
   "outputs": [
    {
     "name": "stdout",
     "output_type": "stream",
     "text": [
      "Folder 'C:\\Stuff\\Dataset-creation\\data_lego\\lego-pns-noise\\lego-pns-green-noise-percent-5' successfully cretaed.\n",
      "Folder 'C:\\Stuff\\Dataset-creation\\data_lego\\lego-pns-noise\\lego-pns-green-noise-percent-10' successfully cretaed.\n",
      "Folder 'C:\\Stuff\\Dataset-creation\\data_lego\\lego-pns-noise\\lego-pns-green-noise-percent-15' successfully cretaed.\n",
      "Folder 'C:\\Stuff\\Dataset-creation\\data_lego\\lego-pns-noise\\lego-pns-green-noise-percent-20' successfully cretaed.\n",
      "Folder 'C:\\Stuff\\Dataset-creation\\data_lego\\lego-pns-noise\\lego-pns-green-noise-percent-25' successfully cretaed.\n",
      "Folder 'C:\\Stuff\\Dataset-creation\\data_lego\\lego-pns-noise\\lego-pns-green-noise-percent-30' successfully cretaed.\n",
      "Folder 'C:\\Stuff\\Dataset-creation\\data_lego\\lego-pns-noise\\lego-pns-green-noise-percent-35' successfully cretaed.\n",
      "Folder 'C:\\Stuff\\Dataset-creation\\data_lego\\lego-pns-noise\\lego-pns-green-noise-percent-40' successfully cretaed.\n",
      "Folder 'C:\\Stuff\\Dataset-creation\\data_lego\\lego-pns-noise\\lego-pns-red-noise-percent-5' successfully cretaed.\n",
      "Folder 'C:\\Stuff\\Dataset-creation\\data_lego\\lego-pns-noise\\lego-pns-red-noise-percent-10' successfully cretaed.\n",
      "Folder 'C:\\Stuff\\Dataset-creation\\data_lego\\lego-pns-noise\\lego-pns-red-noise-percent-15' successfully cretaed.\n",
      "Folder 'C:\\Stuff\\Dataset-creation\\data_lego\\lego-pns-noise\\lego-pns-red-noise-percent-20' successfully cretaed.\n",
      "Folder 'C:\\Stuff\\Dataset-creation\\data_lego\\lego-pns-noise\\lego-pns-red-noise-percent-25' successfully cretaed.\n",
      "Folder 'C:\\Stuff\\Dataset-creation\\data_lego\\lego-pns-noise\\lego-pns-red-noise-percent-30' successfully cretaed.\n",
      "Folder 'C:\\Stuff\\Dataset-creation\\data_lego\\lego-pns-noise\\lego-pns-red-noise-percent-35' successfully cretaed.\n",
      "Folder 'C:\\Stuff\\Dataset-creation\\data_lego\\lego-pns-noise\\lego-pns-red-noise-percent-40' successfully cretaed.\n",
      "Folder 'C:\\Stuff\\Dataset-creation\\data_lego\\lego-pns-noise\\lego-pns-blue-noise-percent-5' successfully cretaed.\n",
      "Folder 'C:\\Stuff\\Dataset-creation\\data_lego\\lego-pns-noise\\lego-pns-blue-noise-percent-10' successfully cretaed.\n",
      "Folder 'C:\\Stuff\\Dataset-creation\\data_lego\\lego-pns-noise\\lego-pns-blue-noise-percent-15' successfully cretaed.\n",
      "Folder 'C:\\Stuff\\Dataset-creation\\data_lego\\lego-pns-noise\\lego-pns-blue-noise-percent-20' successfully cretaed.\n",
      "Folder 'C:\\Stuff\\Dataset-creation\\data_lego\\lego-pns-noise\\lego-pns-blue-noise-percent-25' successfully cretaed.\n",
      "Folder 'C:\\Stuff\\Dataset-creation\\data_lego\\lego-pns-noise\\lego-pns-blue-noise-percent-30' successfully cretaed.\n",
      "Folder 'C:\\Stuff\\Dataset-creation\\data_lego\\lego-pns-noise\\lego-pns-blue-noise-percent-35' successfully cretaed.\n",
      "Folder 'C:\\Stuff\\Dataset-creation\\data_lego\\lego-pns-noise\\lego-pns-blue-noise-percent-40' successfully cretaed.\n"
     ]
    }
   ],
   "source": [
    "path_original_lego = 'C:\\Stuff\\Dataset-creation\\data_lego\\lego'\n",
    "path_base_green_pns_noise_lego = 'C:\\Stuff\\Dataset-creation\\data_lego\\lego-pns-noise\\lego-pns-green-noise-percent-'\n",
    "path_base_red_pns_noise_lego = 'C:\\Stuff\\Dataset-creation\\data_lego\\lego-pns-noise\\lego-pns-red-noise-percent-'\n",
    "path_base_blue_pns_noise_lego = 'C:\\Stuff\\Dataset-creation\\data_lego\\lego-pns-noise\\lego-pns-blue-noise-percent-'\n",
    "\n",
    "pepper_and_salt_percentage_noises = list(range(5,45,5))\n",
    "\n",
    "for noise in pepper_and_salt_percentage_noises:\n",
    "    destination_folder = path_base_green_pns_noise_lego + str(noise)\n",
    "    shutil.copytree(path_original_lego, destination_folder)\n",
    "    print(f\"Folder '{destination_folder}' successfully cretaed.\")\n",
    "\n",
    "for noise in pepper_and_salt_percentage_noises:\n",
    "    destination_folder = path_base_red_pns_noise_lego + str(noise)\n",
    "    shutil.copytree(path_original_lego, destination_folder)\n",
    "    print(f\"Folder '{destination_folder}' successfully cretaed.\")\n",
    "\n",
    "for noise in pepper_and_salt_percentage_noises:\n",
    "    destination_folder = path_base_blue_pns_noise_lego + str(noise)\n",
    "    shutil.copytree(path_original_lego, destination_folder)\n",
    "    print(f\"Folder '{destination_folder}' successfully cretaed.\")"
   ]
  },
  {
   "cell_type": "code",
   "execution_count": 2,
   "metadata": {},
   "outputs": [
    {
     "name": "stdout",
     "output_type": "stream",
     "text": [
      "Folder 'C:\\Stuff\\Dataset-creation\\data_lego\\lego-saturation\\lego-saturation-std-0.1' successfully cretaed.\n",
      "Folder 'C:\\Stuff\\Dataset-creation\\data_lego\\lego-saturation\\lego-saturation-std-0.2' successfully cretaed.\n",
      "Folder 'C:\\Stuff\\Dataset-creation\\data_lego\\lego-saturation\\lego-saturation-std-0.3' successfully cretaed.\n",
      "Folder 'C:\\Stuff\\Dataset-creation\\data_lego\\lego-saturation\\lego-saturation-std-0.4' successfully cretaed.\n",
      "Folder 'C:\\Stuff\\Dataset-creation\\data_lego\\lego-saturation\\lego-saturation-std-0.5' successfully cretaed.\n",
      "Folder 'C:\\Stuff\\Dataset-creation\\data_lego\\lego-saturation\\lego-saturation-std-0.6' successfully cretaed.\n",
      "Folder 'C:\\Stuff\\Dataset-creation\\data_lego\\lego-saturation\\lego-saturation-std-0.7' successfully cretaed.\n",
      "Folder 'C:\\Stuff\\Dataset-creation\\data_lego\\lego-saturation\\lego-saturation-std-0.8' successfully cretaed.\n",
      "Folder 'C:\\Stuff\\Dataset-creation\\data_lego\\lego-saturation\\lego-saturation-std-0.9' successfully cretaed.\n",
      "Folder 'C:\\Stuff\\Dataset-creation\\data_lego\\lego-saturation\\lego-saturation-std-1.0' successfully cretaed.\n"
     ]
    }
   ],
   "source": [
    "import shutil\n",
    "import numpy as np\n",
    "path_original_lego = 'C:\\Stuff\\Dataset-creation\\data_lego\\lego'\n",
    "path_base_noise_lego = 'C:\\Stuff\\Dataset-creation\\data_lego\\lego-saturation\\lego-saturation-std-'\n",
    "noises = np.arange(0.1, 1.1, 0.1)\n",
    "\n",
    "for noise in noises:\n",
    "    destination_folder = path_base_noise_lego + str(np.around(noise, 1)) #bug in numpy when you multiply 0.1 and 3 it results 0.300000004\n",
    "    shutil.copytree(path_original_lego, destination_folder)\n",
    "    print(f\"Folder '{destination_folder}' successfully cretaed.\")"
   ]
  },
  {
   "cell_type": "code",
   "execution_count": 3,
   "metadata": {},
   "outputs": [
    {
     "name": "stdout",
     "output_type": "stream",
     "text": [
      "Folder 'C:\\Stuff\\Dataset-creation\\data_lego\\lego-range\\lego-range-10' successfully cretaed.\n",
      "Folder 'C:\\Stuff\\Dataset-creation\\data_lego\\lego-range\\lego-range-20' successfully cretaed.\n",
      "Folder 'C:\\Stuff\\Dataset-creation\\data_lego\\lego-range\\lego-range-30' successfully cretaed.\n",
      "Folder 'C:\\Stuff\\Dataset-creation\\data_lego\\lego-range\\lego-range-40' successfully cretaed.\n",
      "Folder 'C:\\Stuff\\Dataset-creation\\data_lego\\lego-range\\lego-range-50' successfully cretaed.\n",
      "Folder 'C:\\Stuff\\Dataset-creation\\data_lego\\lego-range\\lego-range-60' successfully cretaed.\n",
      "Folder 'C:\\Stuff\\Dataset-creation\\data_lego\\lego-range\\lego-range-70' successfully cretaed.\n",
      "Folder 'C:\\Stuff\\Dataset-creation\\data_lego\\lego-range\\lego-range-80' successfully cretaed.\n",
      "Folder 'C:\\Stuff\\Dataset-creation\\data_lego\\lego-range\\lego-range-90' successfully cretaed.\n",
      "Folder 'C:\\Stuff\\Dataset-creation\\data_lego\\lego-range\\lego-range-100' successfully cretaed.\n"
     ]
    }
   ],
   "source": [
    "import shutil\n",
    "import numpy as np\n",
    "path_original_lego = 'C:\\Stuff\\Dataset-creation\\data_lego\\lego'\n",
    "path_base_noise_lego = 'C:\\Stuff\\Dataset-creation\\data_lego\\lego-range\\lego-range-'\n",
    "noises = np.arange(10, 110, 10)\n",
    "\n",
    "for noise in noises:\n",
    "    destination_folder = path_base_noise_lego + str(noise)\n",
    "    shutil.copytree(path_original_lego, destination_folder)\n",
    "    print(f\"Folder '{destination_folder}' successfully cretaed.\")\n"
   ]
  },
  {
   "cell_type": "code",
   "execution_count": 11,
   "metadata": {},
   "outputs": [
    {
     "name": "stdout",
     "output_type": "stream",
     "text": [
      "Folder 'C:\\Stuff\\Dataset-creation\\data\\stump-gamma\\stump-gamma-0.2' successfully cretaed.\n",
      "Folder 'C:\\Stuff\\Dataset-creation\\data\\stump-gamma\\stump-gamma-0.4' successfully cretaed.\n",
      "Folder 'C:\\Stuff\\Dataset-creation\\data\\stump-gamma\\stump-gamma-0.6' successfully cretaed.\n",
      "Folder 'C:\\Stuff\\Dataset-creation\\data\\stump-gamma\\stump-gamma-0.8' successfully cretaed.\n",
      "Folder 'C:\\Stuff\\Dataset-creation\\data\\stump-gamma\\stump-gamma-1.0' successfully cretaed.\n",
      "Folder 'C:\\Stuff\\Dataset-creation\\data\\stump-gamma\\stump-gamma-2.0' successfully cretaed.\n",
      "Folder 'C:\\Stuff\\Dataset-creation\\data\\stump-gamma\\stump-gamma-3.0' successfully cretaed.\n",
      "Folder 'C:\\Stuff\\Dataset-creation\\data\\stump-gamma\\stump-gamma-4.0' successfully cretaed.\n",
      "Folder 'C:\\Stuff\\Dataset-creation\\data\\stump-gamma\\stump-gamma-5.0' successfully cretaed.\n"
     ]
    }
   ],
   "source": [
    "# import numpy as np\n",
    "# import os \n",
    "# import shutil\n",
    "\n",
    "# path_original_lego = 'C:\\Stuff\\Dataset-creation\\data_lego\\lego'\n",
    "# path_base_noise_lego = 'C:\\Stuff\\Dataset-creation\\data_lego\\lego-gamma\\lego-gamma-'\n",
    "\n",
    "# noises_low = np.arange(0.2, 1.0, 0.2)\n",
    "# noises_high = np.arange(2, 6, 1)\n",
    "# noises = np.append(noises_low, noises_high)\n",
    "# for noise in noises:\n",
    "#     destination_folder = path_base_noise_lego + str(np.around(noise, 1))\n",
    "#     shutil.copytree(path_original_lego, destination_folder)\n",
    "#     print(f\"Folder '{destination_folder}' successfully cretaed.\")"
   ]
  },
  {
   "cell_type": "code",
   "execution_count": 4,
   "metadata": {},
   "outputs": [
    {
     "name": "stdout",
     "output_type": "stream",
     "text": [
      "Folder 'C:\\Stuff\\Dataset-creation\\data_lego\\lego-gamma\\lego-gamma-5' successfully cretaed.\n",
      "Folder 'C:\\Stuff\\Dataset-creation\\data_lego\\lego-gamma\\lego-gamma-10' successfully cretaed.\n",
      "Folder 'C:\\Stuff\\Dataset-creation\\data_lego\\lego-gamma\\lego-gamma-15' successfully cretaed.\n",
      "Folder 'C:\\Stuff\\Dataset-creation\\data_lego\\lego-gamma\\lego-gamma-20' successfully cretaed.\n",
      "Folder 'C:\\Stuff\\Dataset-creation\\data_lego\\lego-gamma\\lego-gamma-25' successfully cretaed.\n",
      "Folder 'C:\\Stuff\\Dataset-creation\\data_lego\\lego-gamma\\lego-gamma-30' successfully cretaed.\n",
      "Folder 'C:\\Stuff\\Dataset-creation\\data_lego\\lego-gamma\\lego-gamma-35' successfully cretaed.\n",
      "Folder 'C:\\Stuff\\Dataset-creation\\data_lego\\lego-gamma\\lego-gamma-40' successfully cretaed.\n"
     ]
    }
   ],
   "source": [
    "import numpy as np\n",
    "import os \n",
    "import shutil\n",
    "\n",
    "path_original_lego = 'C:\\Stuff\\Dataset-creation\\data_lego\\lego'\n",
    "path_base_noise_lego = 'C:\\Stuff\\Dataset-creation\\data_lego\\lego-gamma\\lego-gamma-'\n",
    "\n",
    "noises = np.arange(5, 45, 5)\n",
    "for noise in noises:\n",
    "    destination_folder = path_base_noise_lego + str(np.around(noise, 1))\n",
    "    shutil.copytree(path_original_lego, destination_folder)\n",
    "    print(f\"Folder '{destination_folder}' successfully cretaed.\")"
   ]
  },
  {
   "cell_type": "code",
   "execution_count": 5,
   "metadata": {},
   "outputs": [
    {
     "name": "stdout",
     "output_type": "stream",
     "text": [
      "Folder 'C:\\Stuff\\Dataset-creation\\data_lego\\lego-sparce\\lego-every-2' successfully cretaed.\n",
      "Folder 'C:\\Stuff\\Dataset-creation\\data_lego\\lego-sparce\\lego-every-3' successfully cretaed.\n",
      "Folder 'C:\\Stuff\\Dataset-creation\\data_lego\\lego-sparce\\lego-every-4' successfully cretaed.\n",
      "Folder 'C:\\Stuff\\Dataset-creation\\data_lego\\lego-sparce\\lego-every-5' successfully cretaed.\n",
      "Folder 'C:\\Stuff\\Dataset-creation\\data_lego\\lego-sparce\\lego-every-6' successfully cretaed.\n",
      "Folder 'C:\\Stuff\\Dataset-creation\\data_lego\\lego-sparce\\lego-every-7' successfully cretaed.\n",
      "Folder 'C:\\Stuff\\Dataset-creation\\data_lego\\lego-sparce\\lego-every-8' successfully cretaed.\n"
     ]
    }
   ],
   "source": [
    "import numpy as np\n",
    "import os \n",
    "import shutil\n",
    "\n",
    "path_original_lego = 'C:\\Stuff\\Dataset-creation\\data_lego\\lego'\n",
    "path_base_noise_lego = 'C:\\Stuff\\Dataset-creation\\data_lego\\lego-sparce\\lego-every-'\n",
    "\n",
    "noises = np.arange(2, 9, 1)\n",
    "for noise in noises:\n",
    "    destination_folder = path_base_noise_lego + str(np.around(noise, 1))\n",
    "    shutil.copytree(path_original_lego, destination_folder)\n",
    "    print(f\"Folder '{destination_folder}' successfully cretaed.\")"
   ]
  },
  {
   "cell_type": "code",
   "execution_count": 1,
   "metadata": {},
   "outputs": [
    {
     "name": "stdout",
     "output_type": "stream",
     "text": [
      "Folder 'C:\\Stuff\\Dataset-creation\\data\\stump-sparce-offset\\stump-offset-every-2' successfully cretaed.\n",
      "Folder 'C:\\Stuff\\Dataset-creation\\data\\stump-sparce-offset\\stump-offset-every-3' successfully cretaed.\n",
      "Folder 'C:\\Stuff\\Dataset-creation\\data\\stump-sparce-offset\\stump-offset-every-4' successfully cretaed.\n",
      "Folder 'C:\\Stuff\\Dataset-creation\\data\\stump-sparce-offset\\stump-offset-every-5' successfully cretaed.\n",
      "Folder 'C:\\Stuff\\Dataset-creation\\data\\stump-sparce-offset\\stump-offset-every-6' successfully cretaed.\n",
      "Folder 'C:\\Stuff\\Dataset-creation\\data\\stump-sparce-offset\\stump-offset-every-7' successfully cretaed.\n",
      "Folder 'C:\\Stuff\\Dataset-creation\\data\\stump-sparce-offset\\stump-offset-every-8' successfully cretaed.\n"
     ]
    }
   ],
   "source": [
    "# import numpy as np\n",
    "# import os \n",
    "# import shutil\n",
    "\n",
    "# path_original_lego = 'C:\\Stuff\\Dataset-creation\\data_lego\\lego-original-offset'\n",
    "# path_base_noise_lego = 'C:\\Stuff\\Dataset-creation\\data_lego\\lego-sparce-offset\\lego-offset-every-'\n",
    "\n",
    "# noises = np.arange(2, 9, 1)\n",
    "# for noise in noises:\n",
    "#     destination_folder = path_base_noise_lego + str(np.around(noise, 1))\n",
    "#     shutil.copytree(path_original_lego, destination_folder)\n",
    "#     print(f\"Folder '{destination_folder}' successfully cretaed.\")"
   ]
  },
  {
   "cell_type": "code",
   "execution_count": 2,
   "metadata": {},
   "outputs": [
    {
     "name": "stdout",
     "output_type": "stream",
     "text": [
      "Folder 'C:\\Stuff\\Dataset-creation\\data\\stump-sparce-offset-5\\stump-offset-5-every-2' successfully cretaed.\n",
      "Folder 'C:\\Stuff\\Dataset-creation\\data\\stump-sparce-offset-5\\stump-offset-5-every-3' successfully cretaed.\n",
      "Folder 'C:\\Stuff\\Dataset-creation\\data\\stump-sparce-offset-5\\stump-offset-5-every-4' successfully cretaed.\n",
      "Folder 'C:\\Stuff\\Dataset-creation\\data\\stump-sparce-offset-5\\stump-offset-5-every-5' successfully cretaed.\n",
      "Folder 'C:\\Stuff\\Dataset-creation\\data\\stump-sparce-offset-5\\stump-offset-5-every-6' successfully cretaed.\n",
      "Folder 'C:\\Stuff\\Dataset-creation\\data\\stump-sparce-offset-5\\stump-offset-5-every-7' successfully cretaed.\n",
      "Folder 'C:\\Stuff\\Dataset-creation\\data\\stump-sparce-offset-5\\stump-offset-5-every-8' successfully cretaed.\n"
     ]
    }
   ],
   "source": [
    "# import numpy as np\n",
    "# import os \n",
    "# import shutil\n",
    "\n",
    "# path_original_lego = 'C:\\Stuff\\Dataset-creation\\data_lego\\lego-original-offset'\n",
    "# path_base_noise_lego = 'C:\\Stuff\\Dataset-creation\\data_lego\\lego-sparce-offset-5\\lego-offset-5-every-'\n",
    "\n",
    "# noises = np.arange(2, 9, 1)\n",
    "# for noise in noises:\n",
    "#     destination_folder = path_base_noise_lego + str(np.around(noise, 1))\n",
    "#     shutil.copytree(path_original_lego, destination_folder)\n",
    "#     print(f\"Folder '{destination_folder}' successfully cretaed.\")"
   ]
  }
 ],
 "metadata": {
  "kernelspec": {
   "display_name": "nerfstudio",
   "language": "python",
   "name": "python3"
  },
  "language_info": {
   "codemirror_mode": {
    "name": "ipython",
    "version": 3
   },
   "file_extension": ".py",
   "mimetype": "text/x-python",
   "name": "python",
   "nbconvert_exporter": "python",
   "pygments_lexer": "ipython3",
   "version": "3.11.6"
  }
 },
 "nbformat": 4,
 "nbformat_minor": 2
}
