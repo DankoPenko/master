{
 "cells": [
  {
   "cell_type": "code",
   "execution_count": 1,
   "metadata": {},
   "outputs": [],
   "source": [
    "import time\n",
    "import shutil\n",
    "import subprocess\n",
    "from pathlib import Path\n",
    "import numpy as np\n",
    "import os \n",
    "\n",
    "c1 = r'ns-train instant-ngp --data C:\\Stuff\\Dataset-creation\\data_lego\\lego --viewer.quit-on-train-completion True --project-name lego-benchmark-opt-on --max-num-iterations 15000 --pipeline.model.near-plane 2. --pipeline.model.far-plane 6. --pipeline.datamanager.camera-optimizer.mode SO3xR3 --output-dir outputs-benchmark blender-data'\n",
    "c2 = r'ns-train instant-ngp --data C:\\Stuff\\Dataset-creation\\data_lego\\lego --viewer.quit-on-train-completion True --project-name lego-benchmark-opt-off --max-num-iterations 15000 --pipeline.model.near-plane 2. --pipeline.model.far-plane 6. --pipeline.datamanager.camera-optimizer.mode off --output-dir outputs-benchmark blender-data'\n",
    "c3 = r'ns-train nerfacto --data C:\\Stuff\\Dataset-creation\\data_lego\\lego --viewer.quit-on-train-completion True --project-name lego-benchmark-opt-on --max-num-iterations 15000 --pipeline.model.near-plane 2. --pipeline.model.far-plane 6. --pipeline.datamanager.camera-optimizer.mode SO3xR3 --output-dir outputs-benchmark blender-data'\n",
    "c4 = r'ns-train nerfacto --data C:\\Stuff\\Dataset-creation\\data_lego\\lego --viewer.quit-on-train-completion True --project-name lego-benchmark-opt-off --max-num-iterations 15000 --pipeline.model.near-plane 2. --pipeline.model.far-plane 6. --pipeline.datamanager.camera-optimizer.mode off --output-dir outputs-benchmark blender-data'\n",
    "c5 = r'ns-train instant-ngp --data C:\\Stuff\\Dataset-creation\\data\\stump --viewer.quit-on-train-completion True --project-name stump-benchmark-opt-on --max-num-iterations 15000 --pipeline.datamanager.camera-optimizer.mode SO3xR3 --output-dir outputs-benchmark nerfstudio-data --eval-mode filename'\n",
    "c6 = r'ns-train instant-ngp --data C:\\Stuff\\Dataset-creation\\data\\stump --viewer.quit-on-train-completion True --project-name stump-benchmark-opt-off --max-num-iterations 15000 --pipeline.datamanager.camera-optimizer.mode off --output-dir outputs-benchmark nerfstudio-data --eval-mode filename'\n",
    "c7 = r'ns-train nerfacto --data C:\\Stuff\\Dataset-creation\\data\\stump --viewer.quit-on-train-completion True --project-name stump-benchmark-opt-on --max-num-iterations 15000 --pipeline.datamanager.camera-optimizer.mode SO3xR3 --output-dir outputs-benchmark nerfstudio-data --eval-mode filename'\n",
    "c8 = r'ns-train nerfacto --data C:\\Stuff\\Dataset-creation\\data\\stump --viewer.quit-on-train-completion True --project-name stump-benchmark-opt-off --max-num-iterations 15000 --pipeline.datamanager.camera-optimizer.mode off --output-dir outputs-benchmark nerfstudio-data --eval-mode filename'\n",
    "\n",
    "commands = [c1, c2, c3, c4, c5, c6, c7, c8]\n",
    "\n",
    "for command in commands:\n",
    "    start_time = time.time() \n",
    "    process = subprocess.Popen(command, shell=True, stdout=subprocess.DEVNULL, stderr=subprocess.DEVNULL)\n",
    "    process.wait() \n",
    "    end_time = time.time()  \n",
    "\n",
    "    return_code = process.returncode\n",
    "    running_time = end_time - start_time  \n",
    "    running_time_minutes = running_time / 60  \n",
    "\n",
    "    with open('C:\\Stuff\\Dataset-creation\\\\missing_runs.txt', 'a') as file:\n",
    "        text_to_write = f'The command at {command} exited with code: {return_code}, {running_time_minutes}\\n'\n",
    "        file.write(text_to_write)"
   ]
  }
 ],
 "metadata": {
  "kernelspec": {
   "display_name": "nerfstudio",
   "language": "python",
   "name": "python3"
  },
  "language_info": {
   "codemirror_mode": {
    "name": "ipython",
    "version": 3
   },
   "file_extension": ".py",
   "mimetype": "text/x-python",
   "name": "python",
   "nbconvert_exporter": "python",
   "pygments_lexer": "ipython3",
   "version": "3.8.18"
  }
 },
 "nbformat": 4,
 "nbformat_minor": 2
}
