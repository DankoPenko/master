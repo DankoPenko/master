{
 "cells": [
  {
   "cell_type": "code",
   "execution_count": 1,
   "metadata": {},
   "outputs": [
    {
     "name": "stdout",
     "output_type": "stream",
     "text": [
      "Renamed: stump-pos-std-0.005.json -> stump-orient-std-0.005.json\n",
      "Renamed: stump-pos-std-0.01.json -> stump-orient-std-0.01.json\n",
      "Renamed: stump-pos-std-0.015.json -> stump-orient-std-0.015.json\n",
      "Renamed: stump-pos-std-0.02.json -> stump-orient-std-0.02.json\n",
      "Renamed: stump-pos-std-0.025.json -> stump-orient-std-0.025.json\n",
      "Renamed: stump-pos-std-0.03.json -> stump-orient-std-0.03.json\n",
      "Renamed: stump-pos-std-0.035.json -> stump-orient-std-0.035.json\n",
      "Renamed: stump-pos-std-0.04.json -> stump-orient-std-0.04.json\n",
      "Renamed: stump-pos-std-0.045.json -> stump-orient-std-0.045.json\n",
      "Renamed: stump-pos-std-0.05.json -> stump-orient-std-0.05.json\n",
      "Renamed: stump-pos-std-0.0525.json -> stump-orient-std-0.0525.json\n",
      "Renamed: stump-pos-std-0.055.json -> stump-orient-std-0.055.json\n",
      "Renamed: stump-pos-std-0.0575.json -> stump-orient-std-0.0575.json\n",
      "Renamed: stump-pos-std-0.06.json -> stump-orient-std-0.06.json\n"
     ]
    }
   ],
   "source": [
    "import os\n",
    "\n",
    "def rename_files(folder_path):\n",
    "    # List all files in the folder\n",
    "    files = os.listdir(folder_path)\n",
    "\n",
    "    for file_name in files:\n",
    "        # Check if the substring 'pos-std' is present in the file name\n",
    "        if 'pos-std' in file_name:\n",
    "            # Replace 'pos-std' with 'orient-std'\n",
    "            new_name = file_name.replace('pos-std', 'orient-std')\n",
    "\n",
    "            # Construct the full paths for the old and new file names\n",
    "            old_path = os.path.join(folder_path, file_name)\n",
    "            new_path = os.path.join(folder_path, new_name)\n",
    "\n",
    "            # Rename the file\n",
    "            os.rename(old_path, new_path)\n",
    "            print(f'Renamed: {file_name} -> {new_name}')\n",
    "\n",
    "# Specify the folder path you want to iterate through\n",
    "folder_path = 'C:\\Stuff\\Dataset-creation\\\\notebooks'\n",
    "\n",
    "# Call the function to rename files in the specified folder\n",
    "rename_files(folder_path)"
   ]
  }
 ],
 "metadata": {
  "kernelspec": {
   "display_name": "nerfstudio",
   "language": "python",
   "name": "python3"
  },
  "language_info": {
   "codemirror_mode": {
    "name": "ipython",
    "version": 3
   },
   "file_extension": ".py",
   "mimetype": "text/x-python",
   "name": "python",
   "nbconvert_exporter": "python",
   "pygments_lexer": "ipython3",
   "version": "3.8.18"
  }
 },
 "nbformat": 4,
 "nbformat_minor": 2
}
