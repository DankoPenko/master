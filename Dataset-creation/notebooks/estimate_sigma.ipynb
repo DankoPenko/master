{
 "cells": [
  {
   "cell_type": "code",
   "execution_count": 1,
   "metadata": {},
   "outputs": [],
   "source": [
    "import cv2\n",
    "from skimage.restoration import estimate_sigma\n",
    "\n",
    "def estimate_noise(image_path):\n",
    "    img = cv2.imread(image_path)\n",
    "    return estimate_sigma(img, channel_axis=2, average_sigmas=True)"
   ]
  },
  {
   "cell_type": "code",
   "execution_count": 5,
   "metadata": {},
   "outputs": [
    {
     "name": "stdout",
     "output_type": "stream",
     "text": [
      "C:\\Stuff\\Dataset-creation\\data\\stump-noise\\stump-noise-std-112\\images mean : 54.89584446111291\n",
      "C:\\Stuff\\Dataset-creation\\data\\stump-noise\\stump-noise-std-112\\images std : 0.6699578854343239\n",
      "C:\\Stuff\\Dataset-creation\\data\\stump-noise\\stump-noise-std-128\\images mean : 58.60011656493769\n",
      "C:\\Stuff\\Dataset-creation\\data\\stump-noise\\stump-noise-std-128\\images std : 0.6171026805595572\n",
      "C:\\Stuff\\Dataset-creation\\data\\stump-noise\\stump-noise-std-16\\images mean : 7.061168373463572\n",
      "C:\\Stuff\\Dataset-creation\\data\\stump-noise\\stump-noise-std-16\\images std : 0.4028948440862465\n",
      "C:\\Stuff\\Dataset-creation\\data\\stump-noise\\stump-noise-std-32\\images mean : 22.444779094144412\n",
      "C:\\Stuff\\Dataset-creation\\data\\stump-noise\\stump-noise-std-32\\images std : 0.47828020838601143\n",
      "C:\\Stuff\\Dataset-creation\\data\\stump-noise\\stump-noise-std-48\\images mean : 31.724095499601383\n",
      "C:\\Stuff\\Dataset-creation\\data\\stump-noise\\stump-noise-std-48\\images std : 0.5718429264441872\n",
      "C:\\Stuff\\Dataset-creation\\data\\stump-noise\\stump-noise-std-64\\images mean : 38.92959905291753\n",
      "C:\\Stuff\\Dataset-creation\\data\\stump-noise\\stump-noise-std-64\\images std : 0.660108997569264\n",
      "C:\\Stuff\\Dataset-creation\\data\\stump-noise\\stump-noise-std-80\\images mean : 45.125273387831854\n",
      "C:\\Stuff\\Dataset-creation\\data\\stump-noise\\stump-noise-std-80\\images std : 0.7060535010459432\n",
      "C:\\Stuff\\Dataset-creation\\data\\stump-noise\\stump-noise-std-96\\images mean : 50.44410384396999\n",
      "C:\\Stuff\\Dataset-creation\\data\\stump-noise\\stump-noise-std-96\\images std : 0.7120057127099634\n"
     ]
    }
   ],
   "source": [
    "\n",
    "import numpy as np\n",
    "import os\n",
    "path_noisy_images = 'C:\\Stuff\\Dataset-creation\\data\\stump-noise'\n",
    "for folder in os.listdir(path_noisy_images):\n",
    "    sigmas = np.array([])\n",
    "    path_folder = os.path.join(path_noisy_images, folder, 'images')\n",
    "    for image_name in os.listdir(path_folder):\n",
    "        if 'train' in image_name:\n",
    "            image_path = os.path.join(path_folder, image_name)\n",
    "            sigmas = np.append(sigmas, estimate_noise(image_path=image_path))\n",
    "    print(f'{path_folder} mean : {np.mean(sigmas)}')\n",
    "    print(f'{path_folder} std : {np.std(sigmas)}')\n",
    "    "
   ]
  },
  {
   "cell_type": "code",
   "execution_count": 7,
   "metadata": {},
   "outputs": [
    {
     "name": "stdout",
     "output_type": "stream",
     "text": [
      "colmap 2.2431085326537286\n"
     ]
    }
   ],
   "source": [
    "import os\n",
    "path_noisy_images = 'C:\\Stuff\\Dataset-creation\\data\\stump'\n",
    "\n",
    "# for folder in os.listdir(path_noisy_images):\n",
    "path_folder = os.path.join(path_noisy_images, 'images')\n",
    "image_name = os.listdir(path_folder)[18]\n",
    "image_path = os.path.join(path_folder, image_name)\n",
    "print(folder, estimate_noise(image_path=image_path))\n",
    "    # print(folder, estimate_noise(image_path=image_path))"
   ]
  }
 ],
 "metadata": {
  "kernelspec": {
   "display_name": "nerfstudio",
   "language": "python",
   "name": "python3"
  },
  "language_info": {
   "codemirror_mode": {
    "name": "ipython",
    "version": 3
   },
   "file_extension": ".py",
   "mimetype": "text/x-python",
   "name": "python",
   "nbconvert_exporter": "python",
   "pygments_lexer": "ipython3",
   "version": "3.8.18"
  }
 },
 "nbformat": 4,
 "nbformat_minor": 2
}
