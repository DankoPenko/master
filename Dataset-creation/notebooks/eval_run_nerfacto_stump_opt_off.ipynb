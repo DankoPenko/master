{
 "cells": [
  {
   "cell_type": "code",
   "execution_count": 2,
   "metadata": {},
   "outputs": [],
   "source": [
    "import re\n",
    "import subprocess\n",
    "import os\n",
    "\n",
    "def extract_project_name_from_yaml(file_path):\n",
    "    with open(file_path, 'r') as file:\n",
    "        yaml_content = file.read()\n",
    "        project_name_start = yaml_content.find('project_name:') + len('project_name:')\n",
    "        project_name_end = yaml_content.find('\\n', project_name_start)\n",
    "        project_name_value = yaml_content[project_name_start:project_name_end].strip()\n",
    "\n",
    "    return project_name_value"
   ]
  },
  {
   "cell_type": "code",
   "execution_count": 3,
   "metadata": {},
   "outputs": [],
   "source": [
    "import time\n",
    "import os\n",
    "model_type = 'nerfacto'\n",
    "path_outputs = 'C:\\Stuff\\Dataset-creation\\\\notebooks\\outputs'\n",
    "i = 0\n",
    "# for i, degradation_type in enumerate(os.listdir(path_outputs)[1:]):\n",
    "for degradation_type in os.listdir(path_outputs):\n",
    "    runs = os.path.join(path_outputs, degradation_type, model_type)\n",
    "    # for i, run in enumerate(os.listdir(runs)):\n",
    "    for run in os.listdir(runs):\n",
    "        run_config_path = os.path.join(runs, run, 'config.yml') \n",
    "        project_name = extract_project_name_from_yaml(run_config_path)\n",
    "        path_render = os.path.join('C:\\\\Stuff\\\\Dataset-creation\\\\renders_nerfacto_stump_opt_off', run)\n",
    "        \n",
    "        base_command =   f'ns-eval --load-config={run_config_path} ' \\\n",
    "                        f'--output-path={project_name}.json '             \n",
    "        render_command = f'--render-output-path={path_render} '\n",
    "        command = base_command + render_command\n",
    "        \n",
    "        start_time = time.time() \n",
    "        process = subprocess.Popen(command, shell=True, stdout=subprocess.DEVNULL, stderr=subprocess.DEVNULL)\n",
    "        process.wait() \n",
    "        end_time = time.time()  \n",
    "\n",
    "        return_code = process.returncode\n",
    "        running_time = end_time - start_time  \n",
    "        running_time_minutes = running_time / 60                \n",
    "\n",
    "        with open('C:\\Stuff\\Dataset-creation\\\\renders_nerfacto_stump_opt_off.txt', 'a') as file:\n",
    "            text_to_write = f'The command at {project_name} exited with code: {return_code}, {running_time_minutes}\\n'\n",
    "            file.write(text_to_write)"
   ]
  }
 ],
 "metadata": {
  "kernelspec": {
   "display_name": "nerfstudio",
   "language": "python",
   "name": "python3"
  },
  "language_info": {
   "codemirror_mode": {
    "name": "ipython",
    "version": 3
   },
   "file_extension": ".py",
   "mimetype": "text/x-python",
   "name": "python",
   "nbconvert_exporter": "python",
   "pygments_lexer": "ipython3",
   "version": "3.8.18"
  }
 },
 "nbformat": 4,
 "nbformat_minor": 2
}
