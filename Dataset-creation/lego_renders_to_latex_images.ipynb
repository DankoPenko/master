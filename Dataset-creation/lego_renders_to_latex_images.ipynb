{
 "cells": [
  {
   "cell_type": "code",
   "execution_count": 61,
   "metadata": {},
   "outputs": [],
   "source": [
    "from torchmetrics.functional import structural_similarity_index_measure\n",
    "from torchmetrics.image import PeakSignalNoiseRatio\n",
    "from torchmetrics.image.lpip import LearnedPerceptualImagePatchSimilarity\n",
    "import re \n",
    "import json \n",
    "import os\n",
    "from PIL import Image, ImageDraw, ImageFont\n",
    "from torchvision.transforms import ToTensor\n",
    "\n",
    "psnr_metric = PeakSignalNoiseRatio(data_range=1.0)\n",
    "lpips_metric = LearnedPerceptualImagePatchSimilarity\n",
    "ssim_metric = structural_similarity_index_measure\n",
    "\n",
    "renders_path = 'C:\\Stuff\\Dataset-creation\\\\renders_lego'\n",
    "results_path = 'C:\\Stuff\\Dataset-creation\\jsons_lego'\n",
    "\n",
    "def add_text_to_image(input_image_path, output_image_path, text):\n",
    "    image = Image.open(input_image_path)\n",
    "    width, height = image.size\n",
    "    draw = ImageDraw.Draw(image)\n",
    "    font_size = 150\n",
    "    font = ImageFont.truetype(\"arial.ttf\", font_size)\n",
    "\n",
    "    text_width, text_height = 200, 200\n",
    "    x_position = width - text_width - 600\n",
    "    y_position = height - text_height + 40\n",
    "\n",
    "    text_color = (255, 0, 0)\n",
    "    draw.text((x_position, y_position), text, font=font, fill=text_color)\n",
    "\n",
    "    image.save(output_image_path)"
   ]
  },
  {
   "cell_type": "code",
   "execution_count": 66,
   "metadata": {},
   "outputs": [
    {
     "name": "stdout",
     "output_type": "stream",
     "text": [
      "Cropping completed.\n"
     ]
    }
   ],
   "source": [
    "for folder_path in os.listdir(renders_path)[:]:\n",
    "    for filename in os.listdir(os.path.join(renders_path, folder_path)):\n",
    "        if filename.lower().endswith('img.jpg') and 'crop' not in filename:\n",
    "            file_path = os.path.join(renders_path, folder_path, filename)\n",
    "            original_image = Image.open(file_path)\n",
    "            original_width, original_height = original_image.size\n",
    "            left = original_width / 2  # Start from the middle of the image to get the right half\n",
    "            top = 0  # Start from the top edge of the image\n",
    "            right = original_width  # Extend to the right edge of the image\n",
    "            bottom = original_height  # Extend to the bottom edge of the image\n",
    "            cropped_image = original_image.crop((left, top, right, bottom))\n",
    "            new_filename = f\"crop_degrated_{filename}\"\n",
    "            new_file_path = os.path.join(renders_path, folder_path, new_filename)\n",
    "            cropped_image.save(new_file_path)\n",
    "            original_image.close()\n",
    "\n",
    "print(\"Cropping completed.\")\n"
   ]
  },
  {
   "cell_type": "code",
   "execution_count": 63,
   "metadata": {},
   "outputs": [
    {
     "name": "stderr",
     "output_type": "stream",
     "text": [
      "c:\\Users\\danko\\miniconda3\\envs\\nerfstudio\\lib\\site-packages\\torchmetrics\\utilities\\prints.py:70: FutureWarning: Importing `spectral_angle_mapper` from `torchmetrics.functional` was deprecated and will be removed in 2.0. Import `spectral_angle_mapper` from `torchmetrics.image` instead.\n",
      "  _future_warning(\n"
     ]
    },
    {
     "name": "stdout",
     "output_type": "stream",
     "text": [
      "Metrics for run 2024-02-19_061424:\n",
      "PSNR values: [15.671610832214355, 13.967564582824707, 15.505934715270996, 10.901954650878906, 12.133748054504395, 12.125770568847656, 11.851130485534668, 15.867193222045898, 15.94489860534668, 15.568641662597656, 15.362281799316406, 14.08130168914795, 11.886969566345215, 11.63809871673584, 15.51648235321045, 15.70478630065918, 15.86490535736084, 15.331969261169434, 14.513578414916992, 10.236783027648926, 11.34211540222168, 12.305542945861816, 14.691863059997559, 12.51229190826416, 11.83339786529541, 12.198790550231934, 15.653366088867188, 12.503904342651367, 12.513473510742188, 15.64819622039795, 15.701213836669922, 12.011804580688477, 10.560688018798828, 14.697198867797852, 15.985779762268066, 15.839517593383789, 11.492314338684082, 14.986947059631348, 15.848198890686035, 16.207582473754883, 11.986318588256836, 11.057600975036621, 15.880988121032715, 15.384400367736816, 9.564465522766113, 15.61352825164795, 12.23069953918457, 12.194009780883789, 12.145918846130371, 10.574979782104492, 15.649548530578613, 16.21004295349121, 12.274803161621094, 15.054561614990234, 15.937573432922363, 14.328804969787598, 15.339201927185059, 15.738106727600098, 13.53981876373291, 15.710601806640625, 11.913884162902832, 11.947023391723633, 10.930795669555664, 12.70531177520752, 13.571906089782715, 13.313508033752441, 15.654219627380371, 12.551395416259766, 15.741463661193848, 12.577465057373047, 12.203201293945312, 15.816556930541992, 11.413700103759766, 15.865219116210938, 10.156441688537598, 14.120709419250488, 11.60000228881836, 15.548460006713867, 15.576675415039062, 10.630810737609863, 15.749227523803711, 15.848210334777832, 12.246379852294922, 15.72719955444336, 14.33970832824707, 15.685518264770508, 11.789651870727539, 15.681321144104004, 16.10504913330078, 11.774178504943848, 12.976602554321289, 16.144371032714844, 15.464254379272461, 10.942567825317383, 15.10115909576416, 10.244406700134277, 15.279891014099121, 12.769619941711426, 13.697416305541992, 13.628349304199219]\n",
      "SSIM values: [0.7854515910148621, 0.7079888582229614, 0.7665733695030212, 0.712225615978241, 0.6720951795578003, 0.6256659030914307, 0.6961214542388916, 0.7936765551567078, 0.7949919104576111, 0.7758524417877197, 0.773673951625824, 0.6405359506607056, 0.646377444267273, 0.6024011373519897, 0.7690086960792542, 0.7917639017105103, 0.7930061221122742, 0.735867440700531, 0.6518232822418213, 0.6145206689834595, 0.720942497253418, 0.7111943960189819, 0.7357379794120789, 0.6607378125190735, 0.6378025412559509, 0.7420207262039185, 0.7822235226631165, 0.6780234575271606, 0.6804254055023193, 0.78448885679245, 0.7880852818489075, 0.700695812702179, 0.7134504318237305, 0.7150260210037231, 0.7657994031906128, 0.7730709314346313, 0.6706559658050537, 0.7160860896110535, 0.7851782441139221, 0.8088424801826477, 0.694880485534668, 0.6269189119338989, 0.7991500496864319, 0.7815728783607483, 0.6874131560325623, 0.7875014543533325, 0.7764383554458618, 0.6647740006446838, 0.6430370807647705, 0.7260370254516602, 0.7676277160644531, 0.8118072152137756, 0.6689375638961792, 0.7312288880348206, 0.7932166457176208, 0.7209476232528687, 0.7429133057594299, 0.7927718758583069, 0.6371369957923889, 0.7914681434631348, 0.697840690612793, 0.6748480200767517, 0.7399932146072388, 0.6491699814796448, 0.6446341276168823, 0.6437506675720215, 0.7874606251716614, 0.6019867062568665, 0.7790306806564331, 0.6764243245124817, 0.6428654789924622, 0.7899673581123352, 0.6395068764686584, 0.7825790047645569, 0.605605959892273, 0.685387134552002, 0.6640700101852417, 0.7688402533531189, 0.7693432569503784, 0.6359003782272339, 0.7845543026924133, 0.7866805791854858, 0.7880916595458984, 0.7918006777763367, 0.7123926877975464, 0.7916133999824524, 0.6258942484855652, 0.7909637689590454, 0.7768349647521973, 0.6382172107696533, 0.6866151094436646, 0.784649133682251, 0.7712030410766602, 0.6282898783683777, 0.7385054230690002, 0.6054584980010986, 0.7392444610595703, 0.6521924734115601, 0.6644843220710754, 0.7216943502426147]\n",
      "LPIPS values: []\n",
      "\n",
      "\n"
     ]
    }
   ],
   "source": [
    "psnrs, lpips_vals, ssims = [], [], []\n",
    "\n",
    "# Helper function to load and preprocess image\n",
    "def load_image(image_path):\n",
    "    image = Image.open(image_path).convert('RGB')\n",
    "    return ToTensor()(image)\n",
    "\n",
    "# List to store metrics for all runs\n",
    "all_runs_metrics = []\n",
    "for run_folder in os.listdir(renders_path)[:1]:\n",
    "    run_path = os.path.join(renders_path, run_folder)\n",
    "    if os.path.isdir(run_path):\n",
    "        # Lists to store metrics for this run\n",
    "        psnrs, lpips_vals, ssims = [], [], []\n",
    "\n",
    "        # Loop over the images in the run directory\n",
    "        for filename in os.listdir(run_path):\n",
    "            if filename.endswith('img.jpg') and not filename.startswith('crop_degrated_'):\n",
    "                base_name = filename.split('-')[0]\n",
    "                degraded_filename = f'crop_degrated_{base_name}-img.jpg'\n",
    "                degraded_filepath = os.path.join(run_path, degraded_filename)\n",
    "\n",
    "                original_image_full = load_image(os.path.join(run_path, filename))\n",
    "                # print(original_image_full.shape)\n",
    "                original_width, original_height = original_image_full.shape[1], original_image_full.shape[2]\n",
    "                original_image = original_image_full[:, :, :original_height // 2]\n",
    "                # print(original_image.shape)\n",
    "                # break\n",
    "                # print(original_image)\n",
    "                degraded_image = load_image(degraded_filepath)\n",
    "                original_image = original_image.unsqueeze(0)  # Add batch dimension\n",
    "                degraded_image = degraded_image.unsqueeze(0)  # Add batch dimension\n",
    "                psnr = psnr_metric(original_image, degraded_image)\n",
    "                ssim = ssim_metric(original_image, degraded_image)\n",
    "                # Replace with actual LPIPS computation\n",
    "                # lpips = torch.tensor(0)  # Placeholder, replace with actual LPIPS computation\n",
    "                psnrs.append(psnr.item())\n",
    "                ssims.append(ssim.item())\n",
    "                # lpips_vals.append(lpips.item())\n",
    "\n",
    "        # Append metrics for this run to the all runs list\n",
    "        all_runs_metrics.append({\n",
    "            'run': run_folder,\n",
    "            'PSNR': psnrs,\n",
    "            'SSIM': ssims,\n",
    "            'LPIPS': lpips_vals\n",
    "        })\n",
    "\n",
    "# Now you have all the metrics for each run stored in all_runs_metrics\n",
    "# You can print them, or save them to a file\n",
    "for run_metrics in all_runs_metrics:\n",
    "    print(f\"Metrics for run {run_metrics['run']}:\")\n",
    "    print(\"PSNR values:\", run_metrics['PSNR'])\n",
    "    print(\"SSIM values:\", run_metrics['SSIM'])\n",
    "    print(\"LPIPS values:\", run_metrics['LPIPS'])\n",
    "    print(\"\\n\")"
   ]
  },
  {
   "cell_type": "code",
   "execution_count": 64,
   "metadata": {},
   "outputs": [
    {
     "data": {
      "image/png": "[encoded data removed]",
      "text/plain": [
       "<Figure size 800x600 with 1 Axes>"
      ]
     },
     "metadata": {},
     "output_type": "display_data"
    },
    {
     "data": {
      "text/plain": [
       "<module 'matplotlib.pyplot' from 'c:\\\\Users\\\\danko\\\\miniconda3\\\\envs\\\\nerfstudio\\\\lib\\\\site-packages\\\\matplotlib\\\\pyplot.py'>"
      ]
     },
     "execution_count": 64,
     "metadata": {},
     "output_type": "execute_result"
    }
   ],
   "source": [
    "import matplotlib.pyplot as plt\n",
    "import numpy as np\n",
    "\n",
    "# Dummy array of PSNR values, replace with your actual data\n",
    "psnr_values = np.random.normal(loc=30, scale=5, size=100)\n",
    "\n",
    "# Create a boxplot for the PSNR values\n",
    "plt.figure(figsize=(8, 6))\n",
    "plt.boxplot(run_metrics['PSNR'])\n",
    "plt.title('Boxplot of PSNR Values')\n",
    "plt.ylabel('PSNR')\n",
    "plt.xticks([1], ['PSNR Distribution'])\n",
    "plt.show()\n",
    "plt\n"
   ]
  },
  {
   "cell_type": "code",
   "execution_count": 67,
   "metadata": {},
   "outputs": [],
   "source": [
    "current_path = os.getcwd()\n",
    "\n",
    "for file in os.listdir(results_path):\n",
    "    f = open(os.path.join(results_path, file))\n",
    "    data =  json.load(f)\n",
    "    psnr = \"{:.1f}\".format(data['results']['psnr'])\n",
    "    ckpt_path = data['checkpoint']\n",
    "    pattern = r'\\d{4}-\\d{2}-\\d{2}_\\d{6}'\n",
    "    match = re.search(pattern, ckpt_path)\n",
    "    timestamp = match.group()\n",
    "    \n",
    "    if timestamp in os.listdir(renders_path):\n",
    "        folder_with_images = os.path.join(renders_path, timestamp)\n",
    "        for img in os.listdir(folder_with_images):\n",
    "            if 'degrated' in img and 'psnr' not in img:\n",
    "                input_image_path = os.path.join(folder_with_images, img)\n",
    "                new_img_name = f'psnr-{img}' \n",
    "                output_image_path = f\"{os.path.join(folder_with_images, new_img_name)}\"\n",
    "                text_to_add = f\"PSNR: {psnr}\"\n",
    "                add_text_to_image(input_image_path, output_image_path, text_to_add)\n",
    "            \n"
   ]
  },
  {
   "cell_type": "code",
   "execution_count": 68,
   "metadata": {},
   "outputs": [],
   "source": [
    "import re \n",
    "from pathlib import Path\n",
    "import json \n",
    "import os \n",
    "\n",
    "for file in os.listdir(results_path):\n",
    "    f = open(os.path.join(results_path, file))\n",
    "    data =  json.load(f)\n",
    "    ckpt_path = data['checkpoint']\n",
    "    pattern = r'\\d{4}-\\d{2}-\\d{2}_\\d{6}'\n",
    "    match = re.search(pattern, ckpt_path)\n",
    "    timestamp = match.group()\n",
    "    \n",
    "    if timestamp in os.listdir(renders_path):\n",
    "        folder_with_images = os.path.join(renders_path, timestamp)\n",
    "        for img in os.listdir(folder_with_images):\n",
    "            if 'psnr' in img:\n",
    "                input_image_path = os.path.join(folder_with_images, img)\n",
    "                new_img_name = f'{file.replace(\".json\", \"\")}-{img}' \n",
    "                output_image_path = f\"{os.path.join(folder_with_images, new_img_name)}\"\n",
    "                try: \n",
    "                    os.rename(input_image_path, output_image_path)\n",
    "                except:\n",
    "                    continue\n"
   ]
  },
  {
   "cell_type": "code",
   "execution_count": 71,
   "metadata": {},
   "outputs": [
    {
     "name": "stdout",
     "output_type": "stream",
     "text": [
      "Copied 'lego-noise-std-112-psnr-crop_degrated_000001-img.jpg' to 'C:\\Stuff\\Dataset-creation\\rendered_images_for_latex_lego'.\n",
      "Copied 'lego-noise-std-128-psnr-crop_degrated_000001-img.jpg' to 'C:\\Stuff\\Dataset-creation\\rendered_images_for_latex_lego'.\n",
      "Copied 'lego-noise-std-16-psnr-crop_degrated_000001-img.jpg' to 'C:\\Stuff\\Dataset-creation\\rendered_images_for_latex_lego'.\n",
      "Copied 'lego-noise-std-32-psnr-crop_degrated_000001-img.jpg' to 'C:\\Stuff\\Dataset-creation\\rendered_images_for_latex_lego'.\n",
      "Copied 'lego-noise-std-48-psnr-crop_degrated_000001-img.jpg' to 'C:\\Stuff\\Dataset-creation\\rendered_images_for_latex_lego'.\n",
      "Copied 'lego-noise-std-64-psnr-crop_degrated_000001-img.jpg' to 'C:\\Stuff\\Dataset-creation\\rendered_images_for_latex_lego'.\n",
      "Copied 'lego-noise-std-80-psnr-crop_degrated_000001-img.jpg' to 'C:\\Stuff\\Dataset-creation\\rendered_images_for_latex_lego'.\n",
      "Copied 'lego-noise-std-96-psnr-crop_degrated_000001-img.jpg' to 'C:\\Stuff\\Dataset-creation\\rendered_images_for_latex_lego'.\n",
      "Copied 'lego-every-2-psnr-crop_degrated_000001-img.jpg' to 'C:\\Stuff\\Dataset-creation\\rendered_images_for_latex_lego'.\n",
      "Copied 'lego-every-3-psnr-crop_degrated_000001-img.jpg' to 'C:\\Stuff\\Dataset-creation\\rendered_images_for_latex_lego'.\n",
      "Copied 'lego-every-4-psnr-crop_degrated_000001-img.jpg' to 'C:\\Stuff\\Dataset-creation\\rendered_images_for_latex_lego'.\n",
      "Copied 'lego-every-5-psnr-crop_degrated_000001-img.jpg' to 'C:\\Stuff\\Dataset-creation\\rendered_images_for_latex_lego'.\n",
      "Copied 'lego-every-6-psnr-crop_degrated_000001-img.jpg' to 'C:\\Stuff\\Dataset-creation\\rendered_images_for_latex_lego'.\n",
      "Copied 'lego-every-7-psnr-crop_degrated_000001-img.jpg' to 'C:\\Stuff\\Dataset-creation\\rendered_images_for_latex_lego'.\n",
      "Copied 'lego-every-8-psnr-crop_degrated_000001-img.jpg' to 'C:\\Stuff\\Dataset-creation\\rendered_images_for_latex_lego'.\n",
      "Copied 'lego-gamma-10-psnr-crop_degrated_000001-img.jpg' to 'C:\\Stuff\\Dataset-creation\\rendered_images_for_latex_lego'.\n",
      "Copied 'lego-gamma-15-psnr-crop_degrated_000001-img.jpg' to 'C:\\Stuff\\Dataset-creation\\rendered_images_for_latex_lego'.\n",
      "Copied 'lego-gamma-20-psnr-crop_degrated_000001-img.jpg' to 'C:\\Stuff\\Dataset-creation\\rendered_images_for_latex_lego'.\n",
      "Copied 'lego-gamma-25-psnr-crop_degrated_000001-img.jpg' to 'C:\\Stuff\\Dataset-creation\\rendered_images_for_latex_lego'.\n",
      "Copied 'lego-gamma-30-psnr-crop_degrated_000001-img.jpg' to 'C:\\Stuff\\Dataset-creation\\rendered_images_for_latex_lego'.\n",
      "Copied 'lego-gamma-35-psnr-crop_degrated_000001-img.jpg' to 'C:\\Stuff\\Dataset-creation\\rendered_images_for_latex_lego'.\n",
      "Copied 'lego-gamma-40-psnr-crop_degrated_000001-img.jpg' to 'C:\\Stuff\\Dataset-creation\\rendered_images_for_latex_lego'.\n",
      "Copied 'lego-gamma-5-psnr-crop_degrated_000001-img.jpg' to 'C:\\Stuff\\Dataset-creation\\rendered_images_for_latex_lego'.\n",
      "Copied 'lego-saturation-std-0.1-psnr-crop_degrated_000001-img.jpg' to 'C:\\Stuff\\Dataset-creation\\rendered_images_for_latex_lego'.\n",
      "Copied 'lego-saturation-std-0.2-psnr-crop_degrated_000001-img.jpg' to 'C:\\Stuff\\Dataset-creation\\rendered_images_for_latex_lego'.\n",
      "Copied 'lego-saturation-std-0.3-psnr-crop_degrated_000001-img.jpg' to 'C:\\Stuff\\Dataset-creation\\rendered_images_for_latex_lego'.\n",
      "Copied 'lego-saturation-std-0.4-psnr-crop_degrated_000001-img.jpg' to 'C:\\Stuff\\Dataset-creation\\rendered_images_for_latex_lego'.\n",
      "Copied 'lego-saturation-std-0.5-psnr-crop_degrated_000001-img.jpg' to 'C:\\Stuff\\Dataset-creation\\rendered_images_for_latex_lego'.\n",
      "Copied 'lego-saturation-std-0.6-psnr-crop_degrated_000001-img.jpg' to 'C:\\Stuff\\Dataset-creation\\rendered_images_for_latex_lego'.\n",
      "Copied 'lego-saturation-std-0.7-psnr-crop_degrated_000001-img.jpg' to 'C:\\Stuff\\Dataset-creation\\rendered_images_for_latex_lego'.\n",
      "Copied 'lego-saturation-std-0.8-psnr-crop_degrated_000001-img.jpg' to 'C:\\Stuff\\Dataset-creation\\rendered_images_for_latex_lego'.\n",
      "Copied 'lego-saturation-std-0.9-psnr-crop_degrated_000001-img.jpg' to 'C:\\Stuff\\Dataset-creation\\rendered_images_for_latex_lego'.\n",
      "Copied 'lego-saturation-std-1.0-psnr-crop_degrated_000001-img.jpg' to 'C:\\Stuff\\Dataset-creation\\rendered_images_for_latex_lego'.\n"
     ]
    }
   ],
   "source": [
    "import os\n",
    "import shutil\n",
    "\n",
    "def copy_images_with_psnr(source_folder, destination_folder):\n",
    "    try:\n",
    "        if not os.path.exists(destination_folder):\n",
    "            os.makedirs(destination_folder)\n",
    "\n",
    "        for root, dirs, files in os.walk(source_folder):\n",
    "            for file in files:\n",
    "                if 'psnr' in file and ('000001' in file) :\n",
    "                    source_path = os.path.join(root, file)\n",
    "                    destination_path = os.path.join(destination_folder, file)\n",
    "\n",
    "                    shutil.copy2(source_path, destination_path)\n",
    "                    print(f\"Copied '{file}' to '{destination_folder}'.\")\n",
    "\n",
    "    except Exception as e:\n",
    "        print(f\"An error occurred: {e}\")\n",
    "\n",
    "destination_folder = 'C:\\Stuff\\Dataset-creation\\\\rendered_images_for_latex_lego'\n",
    "\n",
    "copy_images_with_psnr(renders_path, destination_folder)\n",
    "\n"
   ]
  },
  {
   "cell_type": "code",
   "execution_count": 2,
   "metadata": {},
   "outputs": [
    {
     "name": "stdout",
     "output_type": "stream",
     "text": [
      "Cropping completed.\n"
     ]
    }
   ],
   "source": [
    "import os\n",
    "from PIL import Image\n",
    "'''\n",
    "get rendered image of predicted scene in full size.\n",
    "'''\n",
    "\n",
    "renders_path = 'C:\\Stuff\\Dataset-creation\\\\renders'\n",
    "\n",
    "# Iterate through files in the folder\n",
    "for folder_path in os.listdir(renders_path)[:]:\n",
    "    for filename in os.listdir(os.path.join(renders_path, folder_path)):\n",
    "        if filename.lower().endswith('img.jpg') and 'crop' not in filename:\n",
    "            file_path = os.path.join(renders_path, folder_path, filename)\n",
    "            original_image = Image.open(file_path)\n",
    "            original_width, original_height = original_image.size\n",
    "            left = original_width/2\n",
    "            top = 0\n",
    "            right = original_width\n",
    "            bottom = original_height \n",
    "\n",
    "            # Crop the image\n",
    "            cropped_image = original_image.crop((left, top, right, bottom))\n",
    "            new_filename = f\"full_rendered_image_{filename}\"\n",
    "            new_file_path = os.path.join(renders_path, folder_path, new_filename)\n",
    "            cropped_image.save(new_file_path)\n",
    "            original_image.close()\n",
    "            cropped_image.close()\n",
    "\n",
    "print(\"Cropping completed.\")\n"
   ]
  }
 ],
 "metadata": {
  "kernelspec": {
   "display_name": "nerfstudio",
   "language": "python",
   "name": "python3"
  },
  "language_info": {
   "codemirror_mode": {
    "name": "ipython",
    "version": 3
   },
   "file_extension": ".py",
   "mimetype": "text/x-python",
   "name": "python",
   "nbconvert_exporter": "python",
   "pygments_lexer": "ipython3",
   "version": "3.8.18"
  }
 },
 "nbformat": 4,
 "nbformat_minor": 2
}
